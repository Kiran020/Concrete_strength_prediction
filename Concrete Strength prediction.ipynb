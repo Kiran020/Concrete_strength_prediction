{
 "cells": [
  {
   "cell_type": "code",
   "execution_count": 1,
   "id": "548a0cc6",
   "metadata": {},
   "outputs": [],
   "source": [
    "import numpy as np\n",
    "import pandas as pd\n",
    "import seaborn as sns\n",
    "import matplotlib.pyplot as plt\n",
    "from warnings import filterwarnings\n",
    "filterwarnings('ignore')\n",
    "\n",
    "\n",
    "from sklearn.model_selection import train_test_split\n",
    "from sklearn.preprocessing import StandardScaler\n",
    "\n",
    "from sklearn.linear_model import LinearRegression\n",
    "from sklearn.metrics import accuracy_score,mean_squared_error,mean_absolute_error,mean_absolute_percentage_error\n",
    "\n",
    "import statsmodels.api as sm\n",
    "from scipy import stats\n",
    "from scipy.stats import shapiro\n",
    "import statsmodels"
   ]
  },
  {
   "cell_type": "code",
   "execution_count": 6,
   "id": "4d2312ec",
   "metadata": {},
   "outputs": [
    {
     "data": {
      "text/html": [
       "<div>\n",
       "<style scoped>\n",
       "    .dataframe tbody tr th:only-of-type {\n",
       "        vertical-align: middle;\n",
       "    }\n",
       "\n",
       "    .dataframe tbody tr th {\n",
       "        vertical-align: top;\n",
       "    }\n",
       "\n",
       "    .dataframe thead th {\n",
       "        text-align: right;\n",
       "    }\n",
       "</style>\n",
       "<table border=\"1\" class=\"dataframe\">\n",
       "  <thead>\n",
       "    <tr style=\"text-align: right;\">\n",
       "      <th></th>\n",
       "      <th>cement</th>\n",
       "      <th>slag</th>\n",
       "      <th>flyash</th>\n",
       "      <th>water</th>\n",
       "      <th>superplasticizer</th>\n",
       "      <th>coarseaggregate</th>\n",
       "      <th>fineaggregate</th>\n",
       "      <th>age</th>\n",
       "      <th>csMPa</th>\n",
       "    </tr>\n",
       "  </thead>\n",
       "  <tbody>\n",
       "    <tr>\n",
       "      <th>0</th>\n",
       "      <td>540.0</td>\n",
       "      <td>0.0</td>\n",
       "      <td>0.0</td>\n",
       "      <td>162.0</td>\n",
       "      <td>2.5</td>\n",
       "      <td>1040.0</td>\n",
       "      <td>676.0</td>\n",
       "      <td>28</td>\n",
       "      <td>79.99</td>\n",
       "    </tr>\n",
       "    <tr>\n",
       "      <th>1</th>\n",
       "      <td>540.0</td>\n",
       "      <td>0.0</td>\n",
       "      <td>0.0</td>\n",
       "      <td>162.0</td>\n",
       "      <td>2.5</td>\n",
       "      <td>1055.0</td>\n",
       "      <td>676.0</td>\n",
       "      <td>28</td>\n",
       "      <td>61.89</td>\n",
       "    </tr>\n",
       "    <tr>\n",
       "      <th>2</th>\n",
       "      <td>332.5</td>\n",
       "      <td>142.5</td>\n",
       "      <td>0.0</td>\n",
       "      <td>228.0</td>\n",
       "      <td>0.0</td>\n",
       "      <td>932.0</td>\n",
       "      <td>594.0</td>\n",
       "      <td>270</td>\n",
       "      <td>40.27</td>\n",
       "    </tr>\n",
       "    <tr>\n",
       "      <th>3</th>\n",
       "      <td>332.5</td>\n",
       "      <td>142.5</td>\n",
       "      <td>0.0</td>\n",
       "      <td>228.0</td>\n",
       "      <td>0.0</td>\n",
       "      <td>932.0</td>\n",
       "      <td>594.0</td>\n",
       "      <td>365</td>\n",
       "      <td>41.05</td>\n",
       "    </tr>\n",
       "    <tr>\n",
       "      <th>4</th>\n",
       "      <td>198.6</td>\n",
       "      <td>132.4</td>\n",
       "      <td>0.0</td>\n",
       "      <td>192.0</td>\n",
       "      <td>0.0</td>\n",
       "      <td>978.4</td>\n",
       "      <td>825.5</td>\n",
       "      <td>360</td>\n",
       "      <td>44.30</td>\n",
       "    </tr>\n",
       "  </tbody>\n",
       "</table>\n",
       "</div>"
      ],
      "text/plain": [
       "   cement   slag  flyash  water  superplasticizer  coarseaggregate  \\\n",
       "0   540.0    0.0     0.0  162.0               2.5           1040.0   \n",
       "1   540.0    0.0     0.0  162.0               2.5           1055.0   \n",
       "2   332.5  142.5     0.0  228.0               0.0            932.0   \n",
       "3   332.5  142.5     0.0  228.0               0.0            932.0   \n",
       "4   198.6  132.4     0.0  192.0               0.0            978.4   \n",
       "\n",
       "   fineaggregate  age  csMPa  \n",
       "0          676.0   28  79.99  \n",
       "1          676.0   28  61.89  \n",
       "2          594.0  270  40.27  \n",
       "3          594.0  365  41.05  \n",
       "4          825.5  360  44.30  "
      ]
     },
     "execution_count": 6,
     "metadata": {},
     "output_type": "execute_result"
    }
   ],
   "source": [
    "df_con=pd.read_csv('Concrete_Data_Yeh.csv')\n",
    "df_con.head()"
   ]
  },
  {
   "cell_type": "code",
   "execution_count": 7,
   "id": "da595e9b",
   "metadata": {},
   "outputs": [
    {
     "data": {
      "text/plain": [
       "(1030, 9)"
      ]
     },
     "execution_count": 7,
     "metadata": {},
     "output_type": "execute_result"
    }
   ],
   "source": [
    "df_con.shape"
   ]
  },
  {
   "cell_type": "code",
   "execution_count": 90,
   "id": "fd048143",
   "metadata": {},
   "outputs": [
    {
     "data": {
      "text/html": [
       "<div>\n",
       "<style scoped>\n",
       "    .dataframe tbody tr th:only-of-type {\n",
       "        vertical-align: middle;\n",
       "    }\n",
       "\n",
       "    .dataframe tbody tr th {\n",
       "        vertical-align: top;\n",
       "    }\n",
       "\n",
       "    .dataframe thead th {\n",
       "        text-align: right;\n",
       "    }\n",
       "</style>\n",
       "<table border=\"1\" class=\"dataframe\">\n",
       "  <thead>\n",
       "    <tr style=\"text-align: right;\">\n",
       "      <th></th>\n",
       "      <th>cement</th>\n",
       "      <th>slag</th>\n",
       "      <th>flyash</th>\n",
       "      <th>water</th>\n",
       "      <th>superplasticizer</th>\n",
       "      <th>coarseaggregate</th>\n",
       "      <th>fineaggregate</th>\n",
       "      <th>age</th>\n",
       "      <th>csMPa</th>\n",
       "    </tr>\n",
       "  </thead>\n",
       "  <tbody>\n",
       "    <tr>\n",
       "      <th>count</th>\n",
       "      <td>1030.000000</td>\n",
       "      <td>1030.000000</td>\n",
       "      <td>1030.000000</td>\n",
       "      <td>1030.000000</td>\n",
       "      <td>1030.000000</td>\n",
       "      <td>1030.000000</td>\n",
       "      <td>1030.000000</td>\n",
       "      <td>1030.000000</td>\n",
       "      <td>1030.000000</td>\n",
       "    </tr>\n",
       "    <tr>\n",
       "      <th>mean</th>\n",
       "      <td>281.167864</td>\n",
       "      <td>73.895825</td>\n",
       "      <td>54.188350</td>\n",
       "      <td>181.567282</td>\n",
       "      <td>6.204660</td>\n",
       "      <td>972.918932</td>\n",
       "      <td>773.580485</td>\n",
       "      <td>45.662136</td>\n",
       "      <td>35.817961</td>\n",
       "    </tr>\n",
       "    <tr>\n",
       "      <th>std</th>\n",
       "      <td>104.506364</td>\n",
       "      <td>86.279342</td>\n",
       "      <td>63.997004</td>\n",
       "      <td>21.354219</td>\n",
       "      <td>5.973841</td>\n",
       "      <td>77.753954</td>\n",
       "      <td>80.175980</td>\n",
       "      <td>63.169912</td>\n",
       "      <td>16.705742</td>\n",
       "    </tr>\n",
       "    <tr>\n",
       "      <th>min</th>\n",
       "      <td>102.000000</td>\n",
       "      <td>0.000000</td>\n",
       "      <td>0.000000</td>\n",
       "      <td>121.800000</td>\n",
       "      <td>0.000000</td>\n",
       "      <td>801.000000</td>\n",
       "      <td>594.000000</td>\n",
       "      <td>1.000000</td>\n",
       "      <td>2.330000</td>\n",
       "    </tr>\n",
       "    <tr>\n",
       "      <th>25%</th>\n",
       "      <td>192.375000</td>\n",
       "      <td>0.000000</td>\n",
       "      <td>0.000000</td>\n",
       "      <td>164.900000</td>\n",
       "      <td>0.000000</td>\n",
       "      <td>932.000000</td>\n",
       "      <td>730.950000</td>\n",
       "      <td>7.000000</td>\n",
       "      <td>23.710000</td>\n",
       "    </tr>\n",
       "    <tr>\n",
       "      <th>50%</th>\n",
       "      <td>272.900000</td>\n",
       "      <td>22.000000</td>\n",
       "      <td>0.000000</td>\n",
       "      <td>185.000000</td>\n",
       "      <td>6.400000</td>\n",
       "      <td>968.000000</td>\n",
       "      <td>779.500000</td>\n",
       "      <td>28.000000</td>\n",
       "      <td>34.445000</td>\n",
       "    </tr>\n",
       "    <tr>\n",
       "      <th>75%</th>\n",
       "      <td>350.000000</td>\n",
       "      <td>142.950000</td>\n",
       "      <td>118.300000</td>\n",
       "      <td>192.000000</td>\n",
       "      <td>10.200000</td>\n",
       "      <td>1029.400000</td>\n",
       "      <td>824.000000</td>\n",
       "      <td>56.000000</td>\n",
       "      <td>46.135000</td>\n",
       "    </tr>\n",
       "    <tr>\n",
       "      <th>max</th>\n",
       "      <td>540.000000</td>\n",
       "      <td>359.400000</td>\n",
       "      <td>200.100000</td>\n",
       "      <td>247.000000</td>\n",
       "      <td>32.200000</td>\n",
       "      <td>1145.000000</td>\n",
       "      <td>992.600000</td>\n",
       "      <td>365.000000</td>\n",
       "      <td>82.600000</td>\n",
       "    </tr>\n",
       "  </tbody>\n",
       "</table>\n",
       "</div>"
      ],
      "text/plain": [
       "            cement         slag       flyash        water  superplasticizer  \\\n",
       "count  1030.000000  1030.000000  1030.000000  1030.000000       1030.000000   \n",
       "mean    281.167864    73.895825    54.188350   181.567282          6.204660   \n",
       "std     104.506364    86.279342    63.997004    21.354219          5.973841   \n",
       "min     102.000000     0.000000     0.000000   121.800000          0.000000   \n",
       "25%     192.375000     0.000000     0.000000   164.900000          0.000000   \n",
       "50%     272.900000    22.000000     0.000000   185.000000          6.400000   \n",
       "75%     350.000000   142.950000   118.300000   192.000000         10.200000   \n",
       "max     540.000000   359.400000   200.100000   247.000000         32.200000   \n",
       "\n",
       "       coarseaggregate  fineaggregate          age        csMPa  \n",
       "count      1030.000000    1030.000000  1030.000000  1030.000000  \n",
       "mean        972.918932     773.580485    45.662136    35.817961  \n",
       "std          77.753954      80.175980    63.169912    16.705742  \n",
       "min         801.000000     594.000000     1.000000     2.330000  \n",
       "25%         932.000000     730.950000     7.000000    23.710000  \n",
       "50%         968.000000     779.500000    28.000000    34.445000  \n",
       "75%        1029.400000     824.000000    56.000000    46.135000  \n",
       "max        1145.000000     992.600000   365.000000    82.600000  "
      ]
     },
     "execution_count": 90,
     "metadata": {},
     "output_type": "execute_result"
    }
   ],
   "source": [
    "df_con.describe()"
   ]
  },
  {
   "cell_type": "code",
   "execution_count": 3,
   "id": "229f8f0d",
   "metadata": {},
   "outputs": [
    {
     "data": {
      "text/plain": [
       "cement              0\n",
       "slag                0\n",
       "flyash              0\n",
       "water               0\n",
       "superplasticizer    0\n",
       "coarseaggregate     0\n",
       "fineaggregate       0\n",
       "age                 0\n",
       "csMPa               0\n",
       "dtype: int64"
      ]
     },
     "execution_count": 3,
     "metadata": {},
     "output_type": "execute_result"
    }
   ],
   "source": [
    "df_con.isnull().sum()"
   ]
  },
  {
   "cell_type": "code",
   "execution_count": 92,
   "id": "aee9cead",
   "metadata": {},
   "outputs": [
    {
     "data": {
      "text/plain": [
       "cement              float64\n",
       "slag                float64\n",
       "flyash              float64\n",
       "water               float64\n",
       "superplasticizer    float64\n",
       "coarseaggregate     float64\n",
       "fineaggregate       float64\n",
       "age                   int64\n",
       "csMPa               float64\n",
       "dtype: object"
      ]
     },
     "execution_count": 92,
     "metadata": {},
     "output_type": "execute_result"
    }
   ],
   "source": [
    "df_con.dtypes"
   ]
  },
  {
   "cell_type": "code",
   "execution_count": 8,
   "id": "f5680cad",
   "metadata": {},
   "outputs": [
    {
     "data": {
      "text/html": [
       "<div>\n",
       "<style scoped>\n",
       "    .dataframe tbody tr th:only-of-type {\n",
       "        vertical-align: middle;\n",
       "    }\n",
       "\n",
       "    .dataframe tbody tr th {\n",
       "        vertical-align: top;\n",
       "    }\n",
       "\n",
       "    .dataframe thead th {\n",
       "        text-align: right;\n",
       "    }\n",
       "</style>\n",
       "<table border=\"1\" class=\"dataframe\">\n",
       "  <thead>\n",
       "    <tr style=\"text-align: right;\">\n",
       "      <th></th>\n",
       "      <th>cement</th>\n",
       "      <th>slag</th>\n",
       "      <th>flyash</th>\n",
       "      <th>water</th>\n",
       "      <th>superplasticizer</th>\n",
       "      <th>coarseaggregate</th>\n",
       "      <th>fineaggregate</th>\n",
       "      <th>age</th>\n",
       "      <th>Strength</th>\n",
       "    </tr>\n",
       "  </thead>\n",
       "  <tbody>\n",
       "    <tr>\n",
       "      <th>0</th>\n",
       "      <td>540.0</td>\n",
       "      <td>0.0</td>\n",
       "      <td>0.0</td>\n",
       "      <td>162.0</td>\n",
       "      <td>2.5</td>\n",
       "      <td>1040.0</td>\n",
       "      <td>676.0</td>\n",
       "      <td>28</td>\n",
       "      <td>79.99</td>\n",
       "    </tr>\n",
       "    <tr>\n",
       "      <th>1</th>\n",
       "      <td>540.0</td>\n",
       "      <td>0.0</td>\n",
       "      <td>0.0</td>\n",
       "      <td>162.0</td>\n",
       "      <td>2.5</td>\n",
       "      <td>1055.0</td>\n",
       "      <td>676.0</td>\n",
       "      <td>28</td>\n",
       "      <td>61.89</td>\n",
       "    </tr>\n",
       "    <tr>\n",
       "      <th>2</th>\n",
       "      <td>332.5</td>\n",
       "      <td>142.5</td>\n",
       "      <td>0.0</td>\n",
       "      <td>228.0</td>\n",
       "      <td>0.0</td>\n",
       "      <td>932.0</td>\n",
       "      <td>594.0</td>\n",
       "      <td>270</td>\n",
       "      <td>40.27</td>\n",
       "    </tr>\n",
       "    <tr>\n",
       "      <th>3</th>\n",
       "      <td>332.5</td>\n",
       "      <td>142.5</td>\n",
       "      <td>0.0</td>\n",
       "      <td>228.0</td>\n",
       "      <td>0.0</td>\n",
       "      <td>932.0</td>\n",
       "      <td>594.0</td>\n",
       "      <td>365</td>\n",
       "      <td>41.05</td>\n",
       "    </tr>\n",
       "    <tr>\n",
       "      <th>4</th>\n",
       "      <td>198.6</td>\n",
       "      <td>132.4</td>\n",
       "      <td>0.0</td>\n",
       "      <td>192.0</td>\n",
       "      <td>0.0</td>\n",
       "      <td>978.4</td>\n",
       "      <td>825.5</td>\n",
       "      <td>360</td>\n",
       "      <td>44.30</td>\n",
       "    </tr>\n",
       "    <tr>\n",
       "      <th>...</th>\n",
       "      <td>...</td>\n",
       "      <td>...</td>\n",
       "      <td>...</td>\n",
       "      <td>...</td>\n",
       "      <td>...</td>\n",
       "      <td>...</td>\n",
       "      <td>...</td>\n",
       "      <td>...</td>\n",
       "      <td>...</td>\n",
       "    </tr>\n",
       "    <tr>\n",
       "      <th>1025</th>\n",
       "      <td>276.4</td>\n",
       "      <td>116.0</td>\n",
       "      <td>90.3</td>\n",
       "      <td>179.6</td>\n",
       "      <td>8.9</td>\n",
       "      <td>870.1</td>\n",
       "      <td>768.3</td>\n",
       "      <td>28</td>\n",
       "      <td>44.28</td>\n",
       "    </tr>\n",
       "    <tr>\n",
       "      <th>1026</th>\n",
       "      <td>322.2</td>\n",
       "      <td>0.0</td>\n",
       "      <td>115.6</td>\n",
       "      <td>196.0</td>\n",
       "      <td>10.4</td>\n",
       "      <td>817.9</td>\n",
       "      <td>813.4</td>\n",
       "      <td>28</td>\n",
       "      <td>31.18</td>\n",
       "    </tr>\n",
       "    <tr>\n",
       "      <th>1027</th>\n",
       "      <td>148.5</td>\n",
       "      <td>139.4</td>\n",
       "      <td>108.6</td>\n",
       "      <td>192.7</td>\n",
       "      <td>6.1</td>\n",
       "      <td>892.4</td>\n",
       "      <td>780.0</td>\n",
       "      <td>28</td>\n",
       "      <td>23.70</td>\n",
       "    </tr>\n",
       "    <tr>\n",
       "      <th>1028</th>\n",
       "      <td>159.1</td>\n",
       "      <td>186.7</td>\n",
       "      <td>0.0</td>\n",
       "      <td>175.6</td>\n",
       "      <td>11.3</td>\n",
       "      <td>989.6</td>\n",
       "      <td>788.9</td>\n",
       "      <td>28</td>\n",
       "      <td>32.77</td>\n",
       "    </tr>\n",
       "    <tr>\n",
       "      <th>1029</th>\n",
       "      <td>260.9</td>\n",
       "      <td>100.5</td>\n",
       "      <td>78.3</td>\n",
       "      <td>200.6</td>\n",
       "      <td>8.6</td>\n",
       "      <td>864.5</td>\n",
       "      <td>761.5</td>\n",
       "      <td>28</td>\n",
       "      <td>32.40</td>\n",
       "    </tr>\n",
       "  </tbody>\n",
       "</table>\n",
       "<p>1030 rows × 9 columns</p>\n",
       "</div>"
      ],
      "text/plain": [
       "      cement   slag  flyash  water  superplasticizer  coarseaggregate  \\\n",
       "0      540.0    0.0     0.0  162.0               2.5           1040.0   \n",
       "1      540.0    0.0     0.0  162.0               2.5           1055.0   \n",
       "2      332.5  142.5     0.0  228.0               0.0            932.0   \n",
       "3      332.5  142.5     0.0  228.0               0.0            932.0   \n",
       "4      198.6  132.4     0.0  192.0               0.0            978.4   \n",
       "...      ...    ...     ...    ...               ...              ...   \n",
       "1025   276.4  116.0    90.3  179.6               8.9            870.1   \n",
       "1026   322.2    0.0   115.6  196.0              10.4            817.9   \n",
       "1027   148.5  139.4   108.6  192.7               6.1            892.4   \n",
       "1028   159.1  186.7     0.0  175.6              11.3            989.6   \n",
       "1029   260.9  100.5    78.3  200.6               8.6            864.5   \n",
       "\n",
       "      fineaggregate  age  Strength  \n",
       "0             676.0   28     79.99  \n",
       "1             676.0   28     61.89  \n",
       "2             594.0  270     40.27  \n",
       "3             594.0  365     41.05  \n",
       "4             825.5  360     44.30  \n",
       "...             ...  ...       ...  \n",
       "1025          768.3   28     44.28  \n",
       "1026          813.4   28     31.18  \n",
       "1027          780.0   28     23.70  \n",
       "1028          788.9   28     32.77  \n",
       "1029          761.5   28     32.40  \n",
       "\n",
       "[1030 rows x 9 columns]"
      ]
     },
     "execution_count": 8,
     "metadata": {},
     "output_type": "execute_result"
    }
   ],
   "source": [
    "df_con=df_con.rename(columns={'csMPa':'Strength'})\n",
    "df_con"
   ]
  },
  {
   "cell_type": "code",
   "execution_count": 9,
   "id": "05a6a2ff",
   "metadata": {},
   "outputs": [
    {
     "data": {
      "image/png": "[encoded data removed]",
      "text/plain": [
       "<Figure size 432x288 with 1 Axes>"
      ]
     },
     "metadata": {
      "needs_background": "light"
     },
     "output_type": "display_data"
    },
    {
     "data": {
      "image/png": "[encoded data removed]",
      "text/plain": [
       "<Figure size 432x288 with 1 Axes>"
      ]
     },
     "metadata": {
      "needs_background": "light"
     },
     "output_type": "display_data"
    },
    {
     "data": {
      "image/png": "[encoded data removed]",
      "text/plain": [
       "<Figure size 432x288 with 1 Axes>"
      ]
     },
     "metadata": {
      "needs_background": "light"
     },
     "output_type": "display_data"
    },
    {
     "data": {
      "image/png": "[encoded data removed]",
      "text/plain": [
       "<Figure size 432x288 with 1 Axes>"
      ]
     },
     "metadata": {
      "needs_background": "light"
     },
     "output_type": "display_data"
    },
    {
     "data": {
      "image/png": "[encoded data removed]",
      "text/plain": [
       "<Figure size 432x288 with 1 Axes>"
      ]
     },
     "metadata": {
      "needs_background": "light"
     },
     "output_type": "display_data"
    },
    {
     "data": {
      "image/png": "[encoded data removed]",
      "text/plain": [
       "<Figure size 432x288 with 1 Axes>"
      ]
     },
     "metadata": {
      "needs_background": "light"
     },
     "output_type": "display_data"
    },
    {
     "data": {
      "image/png": "[encoded data removed]",
      "text/plain": [
       "<Figure size 432x288 with 1 Axes>"
      ]
     },
     "metadata": {
      "needs_background": "light"
     },
     "output_type": "display_data"
    },
    {
     "data": {
      "image/png": "[encoded data removed]",
      "text/plain": [
       "<Figure size 432x288 with 1 Axes>"
      ]
     },
     "metadata": {
      "needs_background": "light"
     },
     "output_type": "display_data"
    },
    {
     "data": {
      "image/png": "[encoded data removed]",
      "text/plain": [
       "<Figure size 432x288 with 1 Axes>"
      ]
     },
     "metadata": {
      "needs_background": "light"
     },
     "output_type": "display_data"
    }
   ],
   "source": [
    "for col in df_con.columns:\n",
    "    sns.boxplot(x=col,data=df_con)\n",
    "    plt.show()"
   ]
  },
  {
   "cell_type": "code",
   "execution_count": 10,
   "id": "7a726f63",
   "metadata": {},
   "outputs": [],
   "source": [
    "for col in df_con.columns:\n",
    "    q1 = df_con[col].quantile(0.25)\n",
    "    q3 = df_con[col].quantile(0.75)\n",
    "    iqr = q3-q1\n",
    "    ll = q1 - (1.5*iqr)\n",
    "    ul = q3 + (1.5*iqr)\n",
    "    for ind in df_con[col].index:\n",
    "        if df_con.loc[ind,col]<ll:\n",
    "            df_con.loc[ind,col]=ll\n",
    "        if df_con.loc[ind,col]>ul:\n",
    "            df_con.loc[ind,col]=ul"
   ]
  },
  {
   "cell_type": "code",
   "execution_count": 11,
   "id": "62e3658f",
   "metadata": {},
   "outputs": [
    {
     "data": {
      "image/png": "[encoded data removed]",
      "text/plain": [
       "<Figure size 432x288 with 1 Axes>"
      ]
     },
     "metadata": {
      "needs_background": "light"
     },
     "output_type": "display_data"
    },
    {
     "data": {
      "image/png": "[encoded data removed]",
      "text/plain": [
       "<Figure size 432x288 with 1 Axes>"
      ]
     },
     "metadata": {
      "needs_background": "light"
     },
     "output_type": "display_data"
    },
    {
     "data": {
      "image/png": "[encoded data removed]",
      "text/plain": [
       "<Figure size 432x288 with 1 Axes>"
      ]
     },
     "metadata": {
      "needs_background": "light"
     },
     "output_type": "display_data"
    },
    {
     "data": {
      "image/png": "[encoded data removed]",
      "text/plain": [
       "<Figure size 432x288 with 1 Axes>"
      ]
     },
     "metadata": {
      "needs_background": "light"
     },
     "output_type": "display_data"
    },
    {
     "data": {
      "image/png": "[encoded data removed]",
      "text/plain": [
       "<Figure size 432x288 with 1 Axes>"
      ]
     },
     "metadata": {
      "needs_background": "light"
     },
     "output_type": "display_data"
    },
    {
     "data": {
      "image/png": "[encoded data removed]",
      "text/plain": [
       "<Figure size 432x288 with 1 Axes>"
      ]
     },
     "metadata": {
      "needs_background": "light"
     },
     "output_type": "display_data"
    },
    {
     "data": {
      "image/png": "[encoded data removed]",
      "text/plain": [
       "<Figure size 432x288 with 1 Axes>"
      ]
     },
     "metadata": {
      "needs_background": "light"
     },
     "output_type": "display_data"
    },
    {
     "data": {
      "image/png": "[encoded data removed]",
      "text/plain": [
       "<Figure size 432x288 with 1 Axes>"
      ]
     },
     "metadata": {
      "needs_background": "light"
     },
     "output_type": "display_data"
    },
    {
     "data": {
      "image/png": "[encoded data removed]",
      "text/plain": [
       "<Figure size 432x288 with 1 Axes>"
      ]
     },
     "metadata": {
      "needs_background": "light"
     },
     "output_type": "display_data"
    }
   ],
   "source": [
    "for col in df_con.columns:\n",
    "    sns.boxplot(x=col,data=df_con)\n",
    "    plt.show()"
   ]
  },
  {
   "cell_type": "code",
   "execution_count": 12,
   "id": "183ee5a6",
   "metadata": {},
   "outputs": [
    {
     "data": {
      "text/plain": [
       "28.0     425\n",
       "3.0      134\n",
       "7.0      126\n",
       "56.0      91\n",
       "14.0      62\n",
       "129.5     59\n",
       "90.0      54\n",
       "100.0     52\n",
       "91.0      22\n",
       "120.0      3\n",
       "1.0        2\n",
       "Name: age, dtype: int64"
      ]
     },
     "execution_count": 12,
     "metadata": {},
     "output_type": "execute_result"
    }
   ],
   "source": [
    "df_con['age'].value_counts()"
   ]
  },
  {
   "cell_type": "code",
   "execution_count": 13,
   "id": "bbf531af",
   "metadata": {},
   "outputs": [
    {
     "data": {
      "text/plain": [
       "<AxesSubplot:xlabel='age'>"
      ]
     },
     "execution_count": 13,
     "metadata": {},
     "output_type": "execute_result"
    },
    {
     "data": {
      "image/png": "[encoded data removed]",
      "text/plain": [
       "<Figure size 432x288 with 1 Axes>"
      ]
     },
     "metadata": {
      "needs_background": "light"
     },
     "output_type": "display_data"
    }
   ],
   "source": [
    "df_con.groupby('age')['Strength'].mean().plot(kind='bar')"
   ]
  },
  {
   "cell_type": "code",
   "execution_count": 14,
   "id": "0fd8c1b7",
   "metadata": {},
   "outputs": [
    {
     "data": {
      "text/plain": [
       "Index(['cement', 'slag', 'flyash', 'water', 'superplasticizer',\n",
       "       'coarseaggregate', 'fineaggregate', 'age', 'Strength'],\n",
       "      dtype='object')"
      ]
     },
     "execution_count": 14,
     "metadata": {},
     "output_type": "execute_result"
    }
   ],
   "source": [
    "df_con.columns"
   ]
  },
  {
   "cell_type": "code",
   "execution_count": 15,
   "id": "462f72e5",
   "metadata": {},
   "outputs": [
    {
     "data": {
      "text/plain": [
       "cement\n",
       "102.0    13.747500\n",
       "108.3    14.967500\n",
       "116.0    17.435000\n",
       "122.6    17.787500\n",
       "132.0    33.305000\n",
       "           ...    \n",
       "522.0    62.750000\n",
       "525.0    52.624286\n",
       "528.0    56.830000\n",
       "531.3    52.520000\n",
       "540.0    64.270278\n",
       "Name: Strength, Length: 278, dtype: float64"
      ]
     },
     "execution_count": 15,
     "metadata": {},
     "output_type": "execute_result"
    }
   ],
   "source": [
    "\n",
    "df_con.groupby('cement')['Strength'].mean()"
   ]
  },
  {
   "cell_type": "code",
   "execution_count": 16,
   "id": "25366fa6",
   "metadata": {},
   "outputs": [
    {
     "data": {
      "text/plain": [
       "<AxesSubplot:xlabel='cement', ylabel='Count'>"
      ]
     },
     "execution_count": 16,
     "metadata": {},
     "output_type": "execute_result"
    },
    {
     "data": {
      "image/png": "[encoded data removed]",
      "text/plain": [
       "<Figure size 504x360 with 1 Axes>"
      ]
     },
     "metadata": {
      "needs_background": "light"
     },
     "output_type": "display_data"
    }
   ],
   "source": [
    "plt.figure(figsize=(7,5))\n",
    "sns.histplot(df_con['cement'],kde=True)"
   ]
  },
  {
   "cell_type": "code",
   "execution_count": 17,
   "id": "056444b1",
   "metadata": {},
   "outputs": [
    {
     "data": {
      "image/png": "[encoded data removed]",
      "text/plain": [
       "<Figure size 432x288 with 1 Axes>"
      ]
     },
     "metadata": {
      "needs_background": "light"
     },
     "output_type": "display_data"
    },
    {
     "data": {
      "image/png": "[encoded data removed]",
      "text/plain": [
       "<Figure size 432x288 with 1 Axes>"
      ]
     },
     "metadata": {
      "needs_background": "light"
     },
     "output_type": "display_data"
    },
    {
     "data": {
      "image/png": "[encoded data removed]",
      "text/plain": [
       "<Figure size 432x288 with 1 Axes>"
      ]
     },
     "metadata": {
      "needs_background": "light"
     },
     "output_type": "display_data"
    },
    {
     "data": {
      "image/png": "[encoded data removed]",
      "text/plain": [
       "<Figure size 432x288 with 1 Axes>"
      ]
     },
     "metadata": {
      "needs_background": "light"
     },
     "output_type": "display_data"
    },
    {
     "data": {
      "image/png": "[encoded data removed]",
      "text/plain": [
       "<Figure size 432x288 with 1 Axes>"
      ]
     },
     "metadata": {
      "needs_background": "light"
     },
     "output_type": "display_data"
    },
    {
     "data": {
      "image/png": "[encoded data removed]",
      "text/plain": [
       "<Figure size 432x288 with 1 Axes>"
      ]
     },
     "metadata": {
      "needs_background": "light"
     },
     "output_type": "display_data"
    },
    {
     "data": {
      "image/png": "[encoded data removed]",
      "text/plain": [
       "<Figure size 432x288 with 1 Axes>"
      ]
     },
     "metadata": {
      "needs_background": "light"
     },
     "output_type": "display_data"
    },
    {
     "data": {
      "image/png": "[encoded data removed]",
      "text/plain": [
       "<Figure size 432x288 with 1 Axes>"
      ]
     },
     "metadata": {
      "needs_background": "light"
     },
     "output_type": "display_data"
    },
    {
     "data": {
      "image/png": "[encoded data removed]",
      "text/plain": [
       "<Figure size 432x288 with 1 Axes>"
      ]
     },
     "metadata": {
      "needs_background": "light"
     },
     "output_type": "display_data"
    }
   ],
   "source": [
    "for col in df_con.columns:\n",
    "    sns.histplot(x=col,data=df_con,kde=True)\n",
    "    plt.show()"
   ]
  },
  {
   "cell_type": "code",
   "execution_count": 100,
   "id": "d9a1152a",
   "metadata": {},
   "outputs": [
    {
     "data": {
      "text/plain": [
       "<AxesSubplot:>"
      ]
     },
     "execution_count": 100,
     "metadata": {},
     "output_type": "execute_result"
    },
    {
     "data": {
      "image/png": "[encoded data removed]",
      "text/plain": [
       "<Figure size 1080x576 with 2 Axes>"
      ]
     },
     "metadata": {
      "needs_background": "light"
     },
     "output_type": "display_data"
    }
   ],
   "source": [
    "plt.figure(figsize=(15,8))\n",
    "sns.heatmap(df_con.corr(),annot=True)"
   ]
  },
  {
   "cell_type": "code",
   "execution_count": 107,
   "id": "5ba75828",
   "metadata": {},
   "outputs": [
    {
     "data": {
      "text/html": [
       "<div>\n",
       "<style scoped>\n",
       "    .dataframe tbody tr th:only-of-type {\n",
       "        vertical-align: middle;\n",
       "    }\n",
       "\n",
       "    .dataframe tbody tr th {\n",
       "        vertical-align: top;\n",
       "    }\n",
       "\n",
       "    .dataframe thead th {\n",
       "        text-align: right;\n",
       "    }\n",
       "</style>\n",
       "<table border=\"1\" class=\"dataframe\">\n",
       "  <thead>\n",
       "    <tr style=\"text-align: right;\">\n",
       "      <th></th>\n",
       "      <th>cement</th>\n",
       "      <th>slag</th>\n",
       "      <th>flyash</th>\n",
       "      <th>water</th>\n",
       "      <th>superplasticizer</th>\n",
       "      <th>coarseaggregate</th>\n",
       "      <th>fineaggregate</th>\n",
       "      <th>age</th>\n",
       "    </tr>\n",
       "  </thead>\n",
       "  <tbody>\n",
       "    <tr>\n",
       "      <th>0</th>\n",
       "      <td>540.0</td>\n",
       "      <td>0.0</td>\n",
       "      <td>0.0</td>\n",
       "      <td>162.0</td>\n",
       "      <td>2.5</td>\n",
       "      <td>1040.0</td>\n",
       "      <td>676.0</td>\n",
       "      <td>28.0</td>\n",
       "    </tr>\n",
       "    <tr>\n",
       "      <th>1</th>\n",
       "      <td>540.0</td>\n",
       "      <td>0.0</td>\n",
       "      <td>0.0</td>\n",
       "      <td>162.0</td>\n",
       "      <td>2.5</td>\n",
       "      <td>1055.0</td>\n",
       "      <td>676.0</td>\n",
       "      <td>28.0</td>\n",
       "    </tr>\n",
       "    <tr>\n",
       "      <th>2</th>\n",
       "      <td>332.5</td>\n",
       "      <td>142.5</td>\n",
       "      <td>0.0</td>\n",
       "      <td>228.0</td>\n",
       "      <td>0.0</td>\n",
       "      <td>932.0</td>\n",
       "      <td>594.0</td>\n",
       "      <td>129.5</td>\n",
       "    </tr>\n",
       "    <tr>\n",
       "      <th>3</th>\n",
       "      <td>332.5</td>\n",
       "      <td>142.5</td>\n",
       "      <td>0.0</td>\n",
       "      <td>228.0</td>\n",
       "      <td>0.0</td>\n",
       "      <td>932.0</td>\n",
       "      <td>594.0</td>\n",
       "      <td>129.5</td>\n",
       "    </tr>\n",
       "    <tr>\n",
       "      <th>4</th>\n",
       "      <td>198.6</td>\n",
       "      <td>132.4</td>\n",
       "      <td>0.0</td>\n",
       "      <td>192.0</td>\n",
       "      <td>0.0</td>\n",
       "      <td>978.4</td>\n",
       "      <td>825.5</td>\n",
       "      <td>129.5</td>\n",
       "    </tr>\n",
       "    <tr>\n",
       "      <th>...</th>\n",
       "      <td>...</td>\n",
       "      <td>...</td>\n",
       "      <td>...</td>\n",
       "      <td>...</td>\n",
       "      <td>...</td>\n",
       "      <td>...</td>\n",
       "      <td>...</td>\n",
       "      <td>...</td>\n",
       "    </tr>\n",
       "    <tr>\n",
       "      <th>1025</th>\n",
       "      <td>276.4</td>\n",
       "      <td>116.0</td>\n",
       "      <td>90.3</td>\n",
       "      <td>179.6</td>\n",
       "      <td>8.9</td>\n",
       "      <td>870.1</td>\n",
       "      <td>768.3</td>\n",
       "      <td>28.0</td>\n",
       "    </tr>\n",
       "    <tr>\n",
       "      <th>1026</th>\n",
       "      <td>322.2</td>\n",
       "      <td>0.0</td>\n",
       "      <td>115.6</td>\n",
       "      <td>196.0</td>\n",
       "      <td>10.4</td>\n",
       "      <td>817.9</td>\n",
       "      <td>813.4</td>\n",
       "      <td>28.0</td>\n",
       "    </tr>\n",
       "    <tr>\n",
       "      <th>1027</th>\n",
       "      <td>148.5</td>\n",
       "      <td>139.4</td>\n",
       "      <td>108.6</td>\n",
       "      <td>192.7</td>\n",
       "      <td>6.1</td>\n",
       "      <td>892.4</td>\n",
       "      <td>780.0</td>\n",
       "      <td>28.0</td>\n",
       "    </tr>\n",
       "    <tr>\n",
       "      <th>1028</th>\n",
       "      <td>159.1</td>\n",
       "      <td>186.7</td>\n",
       "      <td>0.0</td>\n",
       "      <td>175.6</td>\n",
       "      <td>11.3</td>\n",
       "      <td>989.6</td>\n",
       "      <td>788.9</td>\n",
       "      <td>28.0</td>\n",
       "    </tr>\n",
       "    <tr>\n",
       "      <th>1029</th>\n",
       "      <td>260.9</td>\n",
       "      <td>100.5</td>\n",
       "      <td>78.3</td>\n",
       "      <td>200.6</td>\n",
       "      <td>8.6</td>\n",
       "      <td>864.5</td>\n",
       "      <td>761.5</td>\n",
       "      <td>28.0</td>\n",
       "    </tr>\n",
       "  </tbody>\n",
       "</table>\n",
       "<p>1030 rows × 8 columns</p>\n",
       "</div>"
      ],
      "text/plain": [
       "      cement   slag  flyash  water  superplasticizer  coarseaggregate  \\\n",
       "0      540.0    0.0     0.0  162.0               2.5           1040.0   \n",
       "1      540.0    0.0     0.0  162.0               2.5           1055.0   \n",
       "2      332.5  142.5     0.0  228.0               0.0            932.0   \n",
       "3      332.5  142.5     0.0  228.0               0.0            932.0   \n",
       "4      198.6  132.4     0.0  192.0               0.0            978.4   \n",
       "...      ...    ...     ...    ...               ...              ...   \n",
       "1025   276.4  116.0    90.3  179.6               8.9            870.1   \n",
       "1026   322.2    0.0   115.6  196.0              10.4            817.9   \n",
       "1027   148.5  139.4   108.6  192.7               6.1            892.4   \n",
       "1028   159.1  186.7     0.0  175.6              11.3            989.6   \n",
       "1029   260.9  100.5    78.3  200.6               8.6            864.5   \n",
       "\n",
       "      fineaggregate    age  \n",
       "0             676.0   28.0  \n",
       "1             676.0   28.0  \n",
       "2             594.0  129.5  \n",
       "3             594.0  129.5  \n",
       "4             825.5  129.5  \n",
       "...             ...    ...  \n",
       "1025          768.3   28.0  \n",
       "1026          813.4   28.0  \n",
       "1027          780.0   28.0  \n",
       "1028          788.9   28.0  \n",
       "1029          761.5   28.0  \n",
       "\n",
       "[1030 rows x 8 columns]"
      ]
     },
     "execution_count": 107,
     "metadata": {},
     "output_type": "execute_result"
    }
   ],
   "source": [
    "X=df_con.drop('Strength',1)\n",
    "X"
   ]
  },
  {
   "cell_type": "code",
   "execution_count": 108,
   "id": "c26f5907",
   "metadata": {},
   "outputs": [
    {
     "data": {
      "text/plain": [
       "0       79.7725\n",
       "1       61.8900\n",
       "2       40.2700\n",
       "3       41.0500\n",
       "4       44.3000\n",
       "         ...   \n",
       "1025    44.2800\n",
       "1026    31.1800\n",
       "1027    23.7000\n",
       "1028    32.7700\n",
       "1029    32.4000\n",
       "Name: Strength, Length: 1030, dtype: float64"
      ]
     },
     "execution_count": 108,
     "metadata": {},
     "output_type": "execute_result"
    }
   ],
   "source": [
    "y=df_con['Strength']\n",
    "y"
   ]
  },
  {
   "cell_type": "code",
   "execution_count": 20,
   "id": "6ff0332b",
   "metadata": {},
   "outputs": [],
   "source": [
    "x_train,x_test,y_train,y_test=train_test_split(X,y,test_size=0.3,random_state=1)\n"
   ]
  },
  {
   "cell_type": "code",
   "execution_count": 21,
   "id": "b7f0ad4a",
   "metadata": {},
   "outputs": [
    {
     "name": "stdout",
     "output_type": "stream",
     "text": [
      "(721, 8)\n",
      "(721,)\n",
      "(309, 8)\n",
      "(309,)\n"
     ]
    }
   ],
   "source": [
    "print(x_train.shape)\n",
    "print(y_train.shape)\n",
    "print(x_test.shape)\n",
    "print(y_test.shape)"
   ]
  },
  {
   "cell_type": "code",
   "execution_count": 109,
   "id": "07ba58d3",
   "metadata": {},
   "outputs": [],
   "source": [
    "sc=StandardScaler()\n",
    "x_train_sc=pd.DataFrame(sc.fit_transform(x_train),columns=x_train.columns)\n",
    "x_test_sc=pd.DataFrame(sc.transform(x_test),columns=x_test.columns)"
   ]
  },
  {
   "cell_type": "code",
   "execution_count": 110,
   "id": "cdb0b322",
   "metadata": {},
   "outputs": [
    {
     "data": {
      "text/plain": [
       "(721, 6)"
      ]
     },
     "execution_count": 110,
     "metadata": {},
     "output_type": "execute_result"
    }
   ],
   "source": [
    "x_train.shape"
   ]
  },
  {
   "cell_type": "code",
   "execution_count": 111,
   "id": "ef8ee780",
   "metadata": {},
   "outputs": [],
   "source": [
    "x_train_cn=sm.add_constant(x_train_sc)\n",
    "x_test_cn=sm.add_constant(x_test_sc)"
   ]
  },
  {
   "cell_type": "code",
   "execution_count": 58,
   "id": "d503ca7f",
   "metadata": {},
   "outputs": [
    {
     "ename": "AttributeError",
     "evalue": "'numpy.ndarray' object has no attribute 'values'",
     "output_type": "error",
     "traceback": [
      "\u001b[1;31m---------------------------------------------------------------------------\u001b[0m",
      "\u001b[1;31mAttributeError\u001b[0m                            Traceback (most recent call last)",
      "\u001b[1;32m~\\AppData\\Local\\Temp/ipykernel_20864/383154608.py\u001b[0m in \u001b[0;36m<module>\u001b[1;34m\u001b[0m\n\u001b[1;32m----> 1\u001b[1;33m \u001b[0my_train\u001b[0m\u001b[1;33m=\u001b[0m\u001b[0my_train\u001b[0m\u001b[1;33m.\u001b[0m\u001b[0mvalues\u001b[0m\u001b[1;33m.\u001b[0m\u001b[0mreshape\u001b[0m\u001b[1;33m(\u001b[0m\u001b[1;33m-\u001b[0m\u001b[1;36m1\u001b[0m\u001b[1;33m,\u001b[0m\u001b[1;36m1\u001b[0m\u001b[1;33m)\u001b[0m\u001b[1;33m\u001b[0m\u001b[1;33m\u001b[0m\u001b[0m\n\u001b[0m",
      "\u001b[1;31mAttributeError\u001b[0m: 'numpy.ndarray' object has no attribute 'values'"
     ]
    }
   ],
   "source": [
    "y_train=y_train.values.reshape(-1,1)"
   ]
  },
  {
   "cell_type": "code",
   "execution_count": 59,
   "id": "8c37f669",
   "metadata": {},
   "outputs": [
    {
     "data": {
      "text/html": [
       "<table class=\"simpletable\">\n",
       "<caption>OLS Regression Results</caption>\n",
       "<tr>\n",
       "  <th>Dep. Variable:</th>            <td>y</td>        <th>  R-squared:         </th> <td>   0.752</td> \n",
       "</tr>\n",
       "<tr>\n",
       "  <th>Model:</th>                   <td>OLS</td>       <th>  Adj. R-squared:    </th> <td>   0.749</td> \n",
       "</tr>\n",
       "<tr>\n",
       "  <th>Method:</th>             <td>Least Squares</td>  <th>  F-statistic:       </th> <td>   359.9</td> \n",
       "</tr>\n",
       "<tr>\n",
       "  <th>Date:</th>             <td>Wed, 13 Apr 2022</td> <th>  Prob (F-statistic):</th> <td>4.85e-212</td>\n",
       "</tr>\n",
       "<tr>\n",
       "  <th>Time:</th>                 <td>14:36:46</td>     <th>  Log-Likelihood:    </th> <td> -2559.4</td> \n",
       "</tr>\n",
       "<tr>\n",
       "  <th>No. Observations:</th>      <td>   721</td>      <th>  AIC:               </th> <td>   5133.</td> \n",
       "</tr>\n",
       "<tr>\n",
       "  <th>Df Residuals:</th>          <td>   714</td>      <th>  BIC:               </th> <td>   5165.</td> \n",
       "</tr>\n",
       "<tr>\n",
       "  <th>Df Model:</th>              <td>     6</td>      <th>                     </th>     <td> </td>    \n",
       "</tr>\n",
       "<tr>\n",
       "  <th>Covariance Type:</th>      <td>nonrobust</td>    <th>                     </th>     <td> </td>    \n",
       "</tr>\n",
       "</table>\n",
       "<table class=\"simpletable\">\n",
       "<tr>\n",
       "          <td></td>            <th>coef</th>     <th>std err</th>      <th>t</th>      <th>P>|t|</th>  <th>[0.025</th>    <th>0.975]</th>  \n",
       "</tr>\n",
       "<tr>\n",
       "  <th>const</th>            <td>   35.5608</td> <td>    0.315</td> <td>  112.829</td> <td> 0.000</td> <td>   34.942</td> <td>   36.180</td>\n",
       "</tr>\n",
       "<tr>\n",
       "  <th>cement</th>           <td>   11.6828</td> <td>    0.427</td> <td>   27.387</td> <td> 0.000</td> <td>   10.845</td> <td>   12.520</td>\n",
       "</tr>\n",
       "<tr>\n",
       "  <th>slag</th>             <td>    7.7346</td> <td>    0.413</td> <td>   18.736</td> <td> 0.000</td> <td>    6.924</td> <td>    8.545</td>\n",
       "</tr>\n",
       "<tr>\n",
       "  <th>flyash</th>           <td>    4.5198</td> <td>    0.486</td> <td>    9.308</td> <td> 0.000</td> <td>    3.566</td> <td>    5.473</td>\n",
       "</tr>\n",
       "<tr>\n",
       "  <th>water</th>            <td>   -4.1926</td> <td>    0.429</td> <td>   -9.768</td> <td> 0.000</td> <td>   -5.035</td> <td>   -3.350</td>\n",
       "</tr>\n",
       "<tr>\n",
       "  <th>superplasticizer</th> <td>    1.5699</td> <td>    0.498</td> <td>    3.156</td> <td> 0.002</td> <td>    0.593</td> <td>    2.547</td>\n",
       "</tr>\n",
       "<tr>\n",
       "  <th>age</th>              <td>    9.0214</td> <td>    0.321</td> <td>   28.127</td> <td> 0.000</td> <td>    8.392</td> <td>    9.651</td>\n",
       "</tr>\n",
       "</table>\n",
       "<table class=\"simpletable\">\n",
       "<tr>\n",
       "  <th>Omnibus:</th>       <td> 5.201</td> <th>  Durbin-Watson:     </th> <td>   1.883</td>\n",
       "</tr>\n",
       "<tr>\n",
       "  <th>Prob(Omnibus):</th> <td> 0.074</td> <th>  Jarque-Bera (JB):  </th> <td>   6.649</td>\n",
       "</tr>\n",
       "<tr>\n",
       "  <th>Skew:</th>          <td> 0.020</td> <th>  Prob(JB):          </th> <td>  0.0360</td>\n",
       "</tr>\n",
       "<tr>\n",
       "  <th>Kurtosis:</th>      <td> 3.469</td> <th>  Cond. No.          </th> <td>    3.36</td>\n",
       "</tr>\n",
       "</table><br/><br/>Notes:<br/>[1] Standard Errors assume that the covariance matrix of the errors is correctly specified."
      ],
      "text/plain": [
       "<class 'statsmodels.iolib.summary.Summary'>\n",
       "\"\"\"\n",
       "                            OLS Regression Results                            \n",
       "==============================================================================\n",
       "Dep. Variable:                      y   R-squared:                       0.752\n",
       "Model:                            OLS   Adj. R-squared:                  0.749\n",
       "Method:                 Least Squares   F-statistic:                     359.9\n",
       "Date:                Wed, 13 Apr 2022   Prob (F-statistic):          4.85e-212\n",
       "Time:                        14:36:46   Log-Likelihood:                -2559.4\n",
       "No. Observations:                 721   AIC:                             5133.\n",
       "Df Residuals:                     714   BIC:                             5165.\n",
       "Df Model:                           6                                         \n",
       "Covariance Type:            nonrobust                                         \n",
       "====================================================================================\n",
       "                       coef    std err          t      P>|t|      [0.025      0.975]\n",
       "------------------------------------------------------------------------------------\n",
       "const               35.5608      0.315    112.829      0.000      34.942      36.180\n",
       "cement              11.6828      0.427     27.387      0.000      10.845      12.520\n",
       "slag                 7.7346      0.413     18.736      0.000       6.924       8.545\n",
       "flyash               4.5198      0.486      9.308      0.000       3.566       5.473\n",
       "water               -4.1926      0.429     -9.768      0.000      -5.035      -3.350\n",
       "superplasticizer     1.5699      0.498      3.156      0.002       0.593       2.547\n",
       "age                  9.0214      0.321     28.127      0.000       8.392       9.651\n",
       "==============================================================================\n",
       "Omnibus:                        5.201   Durbin-Watson:                   1.883\n",
       "Prob(Omnibus):                  0.074   Jarque-Bera (JB):                6.649\n",
       "Skew:                           0.020   Prob(JB):                       0.0360\n",
       "Kurtosis:                       3.469   Cond. No.                         3.36\n",
       "==============================================================================\n",
       "\n",
       "Notes:\n",
       "[1] Standard Errors assume that the covariance matrix of the errors is correctly specified.\n",
       "\"\"\""
      ]
     },
     "execution_count": 59,
     "metadata": {},
     "output_type": "execute_result"
    }
   ],
   "source": [
    "model_full=sm.OLS(y_train,x_train_cn).fit()\n",
    "model_full.summary()\n"
   ]
  },
  {
   "cell_type": "code",
   "execution_count": 52,
   "id": "7cea3bf4",
   "metadata": {},
   "outputs": [
    {
     "name": "stdout",
     "output_type": "stream",
     "text": [
      "['const', 'cement', 'slag', 'flyash', 'water', 'superplasticizer', 'age']\n"
     ]
    }
   ],
   "source": [
    "pval=model_full.pvalues\n",
    "impt_features = list(pval[pval<0.05].index)\n",
    "print(impt_features)\n"
   ]
  },
  {
   "cell_type": "code",
   "execution_count": 28,
   "id": "3571299c",
   "metadata": {},
   "outputs": [
    {
     "data": {
      "text/html": [
       "<div>\n",
       "<style scoped>\n",
       "    .dataframe tbody tr th:only-of-type {\n",
       "        vertical-align: middle;\n",
       "    }\n",
       "\n",
       "    .dataframe tbody tr th {\n",
       "        vertical-align: top;\n",
       "    }\n",
       "\n",
       "    .dataframe thead th {\n",
       "        text-align: right;\n",
       "    }\n",
       "</style>\n",
       "<table border=\"1\" class=\"dataframe\">\n",
       "  <thead>\n",
       "    <tr style=\"text-align: right;\">\n",
       "      <th></th>\n",
       "      <th>cement</th>\n",
       "      <th>slag</th>\n",
       "      <th>flyash</th>\n",
       "      <th>water</th>\n",
       "      <th>superplasticizer</th>\n",
       "      <th>age</th>\n",
       "    </tr>\n",
       "  </thead>\n",
       "  <tbody>\n",
       "    <tr>\n",
       "      <th>0</th>\n",
       "      <td>540.0</td>\n",
       "      <td>0.0</td>\n",
       "      <td>0.0</td>\n",
       "      <td>162.0</td>\n",
       "      <td>2.5</td>\n",
       "      <td>28.0</td>\n",
       "    </tr>\n",
       "    <tr>\n",
       "      <th>1</th>\n",
       "      <td>540.0</td>\n",
       "      <td>0.0</td>\n",
       "      <td>0.0</td>\n",
       "      <td>162.0</td>\n",
       "      <td>2.5</td>\n",
       "      <td>28.0</td>\n",
       "    </tr>\n",
       "    <tr>\n",
       "      <th>2</th>\n",
       "      <td>332.5</td>\n",
       "      <td>142.5</td>\n",
       "      <td>0.0</td>\n",
       "      <td>228.0</td>\n",
       "      <td>0.0</td>\n",
       "      <td>129.5</td>\n",
       "    </tr>\n",
       "    <tr>\n",
       "      <th>3</th>\n",
       "      <td>332.5</td>\n",
       "      <td>142.5</td>\n",
       "      <td>0.0</td>\n",
       "      <td>228.0</td>\n",
       "      <td>0.0</td>\n",
       "      <td>129.5</td>\n",
       "    </tr>\n",
       "    <tr>\n",
       "      <th>4</th>\n",
       "      <td>198.6</td>\n",
       "      <td>132.4</td>\n",
       "      <td>0.0</td>\n",
       "      <td>192.0</td>\n",
       "      <td>0.0</td>\n",
       "      <td>129.5</td>\n",
       "    </tr>\n",
       "    <tr>\n",
       "      <th>...</th>\n",
       "      <td>...</td>\n",
       "      <td>...</td>\n",
       "      <td>...</td>\n",
       "      <td>...</td>\n",
       "      <td>...</td>\n",
       "      <td>...</td>\n",
       "    </tr>\n",
       "    <tr>\n",
       "      <th>1025</th>\n",
       "      <td>276.4</td>\n",
       "      <td>116.0</td>\n",
       "      <td>90.3</td>\n",
       "      <td>179.6</td>\n",
       "      <td>8.9</td>\n",
       "      <td>28.0</td>\n",
       "    </tr>\n",
       "    <tr>\n",
       "      <th>1026</th>\n",
       "      <td>322.2</td>\n",
       "      <td>0.0</td>\n",
       "      <td>115.6</td>\n",
       "      <td>196.0</td>\n",
       "      <td>10.4</td>\n",
       "      <td>28.0</td>\n",
       "    </tr>\n",
       "    <tr>\n",
       "      <th>1027</th>\n",
       "      <td>148.5</td>\n",
       "      <td>139.4</td>\n",
       "      <td>108.6</td>\n",
       "      <td>192.7</td>\n",
       "      <td>6.1</td>\n",
       "      <td>28.0</td>\n",
       "    </tr>\n",
       "    <tr>\n",
       "      <th>1028</th>\n",
       "      <td>159.1</td>\n",
       "      <td>186.7</td>\n",
       "      <td>0.0</td>\n",
       "      <td>175.6</td>\n",
       "      <td>11.3</td>\n",
       "      <td>28.0</td>\n",
       "    </tr>\n",
       "    <tr>\n",
       "      <th>1029</th>\n",
       "      <td>260.9</td>\n",
       "      <td>100.5</td>\n",
       "      <td>78.3</td>\n",
       "      <td>200.6</td>\n",
       "      <td>8.6</td>\n",
       "      <td>28.0</td>\n",
       "    </tr>\n",
       "  </tbody>\n",
       "</table>\n",
       "<p>1030 rows × 6 columns</p>\n",
       "</div>"
      ],
      "text/plain": [
       "      cement   slag  flyash  water  superplasticizer    age\n",
       "0      540.0    0.0     0.0  162.0               2.5   28.0\n",
       "1      540.0    0.0     0.0  162.0               2.5   28.0\n",
       "2      332.5  142.5     0.0  228.0               0.0  129.5\n",
       "3      332.5  142.5     0.0  228.0               0.0  129.5\n",
       "4      198.6  132.4     0.0  192.0               0.0  129.5\n",
       "...      ...    ...     ...    ...               ...    ...\n",
       "1025   276.4  116.0    90.3  179.6               8.9   28.0\n",
       "1026   322.2    0.0   115.6  196.0              10.4   28.0\n",
       "1027   148.5  139.4   108.6  192.7               6.1   28.0\n",
       "1028   159.1  186.7     0.0  175.6              11.3   28.0\n",
       "1029   260.9  100.5    78.3  200.6               8.6   28.0\n",
       "\n",
       "[1030 rows x 6 columns]"
      ]
     },
     "execution_count": 28,
     "metadata": {},
     "output_type": "execute_result"
    }
   ],
   "source": [
    "X=X[['cement', 'slag', 'flyash', 'water', 'superplasticizer', 'age']]\n",
    "X"
   ]
  },
  {
   "cell_type": "code",
   "execution_count": 29,
   "id": "59b76ea7",
   "metadata": {},
   "outputs": [
    {
     "data": {
      "text/plain": [
       "0       79.7725\n",
       "1       61.8900\n",
       "2       40.2700\n",
       "3       41.0500\n",
       "4       44.3000\n",
       "         ...   \n",
       "1025    44.2800\n",
       "1026    31.1800\n",
       "1027    23.7000\n",
       "1028    32.7700\n",
       "1029    32.4000\n",
       "Name: Strength, Length: 1030, dtype: float64"
      ]
     },
     "execution_count": 29,
     "metadata": {},
     "output_type": "execute_result"
    }
   ],
   "source": [
    "y=df_con['Strength']\n",
    "y"
   ]
  },
  {
   "cell_type": "code",
   "execution_count": 30,
   "id": "2b09dda6",
   "metadata": {},
   "outputs": [],
   "source": [
    "x_train,x_test,y_train,y_test=train_test_split(X,y,test_size=0.3,random_state=1)"
   ]
  },
  {
   "cell_type": "code",
   "execution_count": 31,
   "id": "cf88bd78",
   "metadata": {},
   "outputs": [],
   "source": [
    "sc=StandardScaler()\n",
    "x_train_sc=pd.DataFrame(sc.fit_transform(x_train),columns=x_train.columns)\n",
    "x_test_sc=pd.DataFrame(sc.transform(x_test),columns=x_test.columns)"
   ]
  },
  {
   "cell_type": "code",
   "execution_count": 32,
   "id": "a4ed8b35",
   "metadata": {},
   "outputs": [],
   "source": [
    "x_train_cn=sm.add_constant(x_train_sc)\n",
    "x_test_cn=sm.add_constant(x_test_sc)"
   ]
  },
  {
   "cell_type": "code",
   "execution_count": 33,
   "id": "625e82eb",
   "metadata": {},
   "outputs": [],
   "source": [
    "y_train=y_train.values.reshape(-1,1)"
   ]
  },
  {
   "cell_type": "code",
   "execution_count": 34,
   "id": "9f495a9c",
   "metadata": {},
   "outputs": [
    {
     "data": {
      "text/html": [
       "<table class=\"simpletable\">\n",
       "<caption>OLS Regression Results</caption>\n",
       "<tr>\n",
       "  <th>Dep. Variable:</th>            <td>y</td>        <th>  R-squared:         </th> <td>   0.752</td> \n",
       "</tr>\n",
       "<tr>\n",
       "  <th>Model:</th>                   <td>OLS</td>       <th>  Adj. R-squared:    </th> <td>   0.749</td> \n",
       "</tr>\n",
       "<tr>\n",
       "  <th>Method:</th>             <td>Least Squares</td>  <th>  F-statistic:       </th> <td>   359.9</td> \n",
       "</tr>\n",
       "<tr>\n",
       "  <th>Date:</th>             <td>Wed, 13 Apr 2022</td> <th>  Prob (F-statistic):</th> <td>4.85e-212</td>\n",
       "</tr>\n",
       "<tr>\n",
       "  <th>Time:</th>                 <td>14:32:20</td>     <th>  Log-Likelihood:    </th> <td> -2559.4</td> \n",
       "</tr>\n",
       "<tr>\n",
       "  <th>No. Observations:</th>      <td>   721</td>      <th>  AIC:               </th> <td>   5133.</td> \n",
       "</tr>\n",
       "<tr>\n",
       "  <th>Df Residuals:</th>          <td>   714</td>      <th>  BIC:               </th> <td>   5165.</td> \n",
       "</tr>\n",
       "<tr>\n",
       "  <th>Df Model:</th>              <td>     6</td>      <th>                     </th>     <td> </td>    \n",
       "</tr>\n",
       "<tr>\n",
       "  <th>Covariance Type:</th>      <td>nonrobust</td>    <th>                     </th>     <td> </td>    \n",
       "</tr>\n",
       "</table>\n",
       "<table class=\"simpletable\">\n",
       "<tr>\n",
       "          <td></td>            <th>coef</th>     <th>std err</th>      <th>t</th>      <th>P>|t|</th>  <th>[0.025</th>    <th>0.975]</th>  \n",
       "</tr>\n",
       "<tr>\n",
       "  <th>const</th>            <td>   35.5608</td> <td>    0.315</td> <td>  112.829</td> <td> 0.000</td> <td>   34.942</td> <td>   36.180</td>\n",
       "</tr>\n",
       "<tr>\n",
       "  <th>cement</th>           <td>   11.6828</td> <td>    0.427</td> <td>   27.387</td> <td> 0.000</td> <td>   10.845</td> <td>   12.520</td>\n",
       "</tr>\n",
       "<tr>\n",
       "  <th>slag</th>             <td>    7.7346</td> <td>    0.413</td> <td>   18.736</td> <td> 0.000</td> <td>    6.924</td> <td>    8.545</td>\n",
       "</tr>\n",
       "<tr>\n",
       "  <th>flyash</th>           <td>    4.5198</td> <td>    0.486</td> <td>    9.308</td> <td> 0.000</td> <td>    3.566</td> <td>    5.473</td>\n",
       "</tr>\n",
       "<tr>\n",
       "  <th>water</th>            <td>   -4.1926</td> <td>    0.429</td> <td>   -9.768</td> <td> 0.000</td> <td>   -5.035</td> <td>   -3.350</td>\n",
       "</tr>\n",
       "<tr>\n",
       "  <th>superplasticizer</th> <td>    1.5699</td> <td>    0.498</td> <td>    3.156</td> <td> 0.002</td> <td>    0.593</td> <td>    2.547</td>\n",
       "</tr>\n",
       "<tr>\n",
       "  <th>age</th>              <td>    9.0214</td> <td>    0.321</td> <td>   28.127</td> <td> 0.000</td> <td>    8.392</td> <td>    9.651</td>\n",
       "</tr>\n",
       "</table>\n",
       "<table class=\"simpletable\">\n",
       "<tr>\n",
       "  <th>Omnibus:</th>       <td> 5.201</td> <th>  Durbin-Watson:     </th> <td>   1.883</td>\n",
       "</tr>\n",
       "<tr>\n",
       "  <th>Prob(Omnibus):</th> <td> 0.074</td> <th>  Jarque-Bera (JB):  </th> <td>   6.649</td>\n",
       "</tr>\n",
       "<tr>\n",
       "  <th>Skew:</th>          <td> 0.020</td> <th>  Prob(JB):          </th> <td>  0.0360</td>\n",
       "</tr>\n",
       "<tr>\n",
       "  <th>Kurtosis:</th>      <td> 3.469</td> <th>  Cond. No.          </th> <td>    3.36</td>\n",
       "</tr>\n",
       "</table><br/><br/>Notes:<br/>[1] Standard Errors assume that the covariance matrix of the errors is correctly specified."
      ],
      "text/plain": [
       "<class 'statsmodels.iolib.summary.Summary'>\n",
       "\"\"\"\n",
       "                            OLS Regression Results                            \n",
       "==============================================================================\n",
       "Dep. Variable:                      y   R-squared:                       0.752\n",
       "Model:                            OLS   Adj. R-squared:                  0.749\n",
       "Method:                 Least Squares   F-statistic:                     359.9\n",
       "Date:                Wed, 13 Apr 2022   Prob (F-statistic):          4.85e-212\n",
       "Time:                        14:32:20   Log-Likelihood:                -2559.4\n",
       "No. Observations:                 721   AIC:                             5133.\n",
       "Df Residuals:                     714   BIC:                             5165.\n",
       "Df Model:                           6                                         \n",
       "Covariance Type:            nonrobust                                         \n",
       "====================================================================================\n",
       "                       coef    std err          t      P>|t|      [0.025      0.975]\n",
       "------------------------------------------------------------------------------------\n",
       "const               35.5608      0.315    112.829      0.000      34.942      36.180\n",
       "cement              11.6828      0.427     27.387      0.000      10.845      12.520\n",
       "slag                 7.7346      0.413     18.736      0.000       6.924       8.545\n",
       "flyash               4.5198      0.486      9.308      0.000       3.566       5.473\n",
       "water               -4.1926      0.429     -9.768      0.000      -5.035      -3.350\n",
       "superplasticizer     1.5699      0.498      3.156      0.002       0.593       2.547\n",
       "age                  9.0214      0.321     28.127      0.000       8.392       9.651\n",
       "==============================================================================\n",
       "Omnibus:                        5.201   Durbin-Watson:                   1.883\n",
       "Prob(Omnibus):                  0.074   Jarque-Bera (JB):                6.649\n",
       "Skew:                           0.020   Prob(JB):                       0.0360\n",
       "Kurtosis:                       3.469   Cond. No.                         3.36\n",
       "==============================================================================\n",
       "\n",
       "Notes:\n",
       "[1] Standard Errors assume that the covariance matrix of the errors is correctly specified.\n",
       "\"\"\""
      ]
     },
     "execution_count": 34,
     "metadata": {},
     "output_type": "execute_result"
    }
   ],
   "source": [
    "model=sm.OLS(y_train,x_train_cn).fit()\n",
    "model.summary()"
   ]
  },
  {
   "cell_type": "code",
   "execution_count": null,
   "id": "4b073fd4",
   "metadata": {},
   "outputs": [],
   "source": [
    "# Durbin Watson - 1.883\n",
    "# There is no autocorrelation  - there is no relation b/w the errors."
   ]
  },
  {
   "cell_type": "code",
   "execution_count": 35,
   "id": "12770578",
   "metadata": {},
   "outputs": [],
   "source": [
    "#NORMALITY\n",
    "from statsmodels.graphics.gofplots import qqplot"
   ]
  },
  {
   "cell_type": "code",
   "execution_count": 36,
   "id": "88ebefcc",
   "metadata": {},
   "outputs": [
    {
     "data": {
      "image/png": "[encoded data removed]",
      "text/plain": [
       "<Figure size 432x288 with 1 Axes>"
      ]
     },
     "execution_count": 36,
     "metadata": {},
     "output_type": "execute_result"
    },
    {
     "data": {
      "image/png": "[encoded data removed]",
      "text/plain": [
       "<Figure size 432x288 with 1 Axes>"
      ]
     },
     "metadata": {
      "needs_background": "light"
     },
     "output_type": "display_data"
    }
   ],
   "source": [
    "qqplot(model.resid,line='r')"
   ]
  },
  {
   "cell_type": "code",
   "execution_count": 112,
   "id": "e2463350",
   "metadata": {},
   "outputs": [
    {
     "data": {
      "text/plain": [
       "ShapiroResult(statistic=0.9953103065490723, pvalue=0.02728058584034443)"
      ]
     },
     "execution_count": 112,
     "metadata": {},
     "output_type": "execute_result"
    }
   ],
   "source": [
    "#NORMALITY\n",
    "stats.shapiro(model_full.resid)\n",
    "## Data points are not falling on the therotical line(red line). So resisual is normal"
   ]
  },
  {
   "cell_type": "code",
   "execution_count": 116,
   "id": "666a662f",
   "metadata": {},
   "outputs": [
    {
     "data": {
      "text/plain": [
       "0      7.025827\n",
       "1      1.654634\n",
       "2      6.135075\n",
       "3     -8.868631\n",
       "4     -0.684566\n",
       "         ...   \n",
       "716    3.811925\n",
       "717    8.514683\n",
       "718    3.404501\n",
       "719   -6.131545\n",
       "720   -4.770822\n",
       "Length: 721, dtype: float64"
      ]
     },
     "execution_count": 116,
     "metadata": {},
     "output_type": "execute_result"
    }
   ],
   "source": [
    "model_full.resid"
   ]
  },
  {
   "cell_type": "code",
   "execution_count": 117,
   "id": "017a9030",
   "metadata": {},
   "outputs": [],
   "source": [
    "import statsmodels\n",
    "import statsmodels.api as sm\n",
    "import statsmodels.stats.api as sms"
   ]
  },
  {
   "cell_type": "code",
   "execution_count": 118,
   "id": "8a666df7",
   "metadata": {},
   "outputs": [
    {
     "data": {
      "text/plain": [
       "(66.41517074465933,\n",
       " 2.216739917317417e-12,\n",
       " 12.073920698109397,\n",
       " 5.990465375448591e-13)"
      ]
     },
     "execution_count": 118,
     "metadata": {},
     "output_type": "execute_result"
    }
   ],
   "source": [
    "sms.het_breuschpagan(model_full.resid,model_full.model.exog)"
   ]
  },
  {
   "cell_type": "code",
   "execution_count": 119,
   "id": "ecfb9a4d",
   "metadata": {},
   "outputs": [
    {
     "data": {
      "text/plain": [
       "'0.000000000002216739917317417'"
      ]
     },
     "execution_count": 119,
     "metadata": {},
     "output_type": "execute_result"
    }
   ],
   "source": [
    "np.format_float_positional(2.216739917317417e-12)"
   ]
  },
  {
   "cell_type": "code",
   "execution_count": 121,
   "id": "444d4123",
   "metadata": {},
   "outputs": [
    {
     "data": {
      "text/plain": [
       "0      17.424173\n",
       "1      26.115366\n",
       "2      20.904925\n",
       "3      15.678631\n",
       "4      54.074566\n",
       "         ...    \n",
       "716    37.118075\n",
       "717    44.305317\n",
       "718    36.255499\n",
       "719    19.421545\n",
       "720    22.610822\n",
       "Length: 721, dtype: float64"
      ]
     },
     "execution_count": 121,
     "metadata": {},
     "output_type": "execute_result"
    }
   ],
   "source": [
    "y_train_pred=model_full.predict(x_train_cn)\n",
    "y_train_pred"
   ]
  },
  {
   "cell_type": "code",
   "execution_count": 122,
   "id": "a0e22f24",
   "metadata": {},
   "outputs": [
    {
     "data": {
      "image/png": "[encoded data removed]",
      "text/plain": [
       "<Figure size 432x288 with 1 Axes>"
      ]
     },
     "metadata": {
      "needs_background": "light"
     },
     "output_type": "display_data"
    }
   ],
   "source": [
    "sns.scatterplot(x=y_train_pred,y =model_full.resid)\n",
    "plt.show()"
   ]
  },
  {
   "cell_type": "code",
   "execution_count": null,
   "id": "c6ae406a",
   "metadata": {},
   "outputs": [],
   "source": [
    "# Linear Regression model follows the heterscedasticity assumption"
   ]
  },
  {
   "cell_type": "code",
   "execution_count": 71,
   "id": "884028a1",
   "metadata": {},
   "outputs": [
    {
     "data": {
      "text/plain": [
       "LinearRegression()"
      ]
     },
     "execution_count": 71,
     "metadata": {},
     "output_type": "execute_result"
    }
   ],
   "source": [
    "model=LinearRegression()\n",
    "model.fit(x_train_sc,y_train)"
   ]
  },
  {
   "cell_type": "code",
   "execution_count": 73,
   "id": "8fae31e3",
   "metadata": {},
   "outputs": [
    {
     "name": "stdout",
     "output_type": "stream",
     "text": [
      "Train R^2: 0.7515107122551992\n",
      "Test R^2: 0.6651300971200608\n"
     ]
    }
   ],
   "source": [
    "print('Train R^2:',model.score(x_train_sc,y_train))\n",
    "print('Test R^2:',model.score(x_test_sc,y_test))"
   ]
  },
  {
   "cell_type": "code",
   "execution_count": 75,
   "id": "339f5a9b",
   "metadata": {},
   "outputs": [
    {
     "data": {
      "text/plain": [
       "array([[17.42417269],\n",
       "       [26.11536589],\n",
       "       [20.90492466],\n",
       "       [15.67863114],\n",
       "       [54.07456595],\n",
       "       [33.28007016],\n",
       "       [46.19401572],\n",
       "       [29.90869865],\n",
       "       [34.78308477],\n",
       "       [16.89499452],\n",
       "       [37.62971866],\n",
       "       [18.23815288],\n",
       "       [21.30959258],\n",
       "       [24.98833667],\n",
       "       [45.40617716],\n",
       "       [41.98530502],\n",
       "       [24.0623338 ],\n",
       "       [54.23943838],\n",
       "       [59.0516978 ],\n",
       "       [42.20558647],\n",
       "       [27.02667088],\n",
       "       [15.66465046],\n",
       "       [19.25644041],\n",
       "       [27.9815318 ],\n",
       "       [23.55125819],\n",
       "       [18.38850967],\n",
       "       [51.43204723],\n",
       "       [53.50837034],\n",
       "       [27.2538033 ],\n",
       "       [20.25449895],\n",
       "       [33.30655934],\n",
       "       [25.28684724],\n",
       "       [42.92789921],\n",
       "       [30.56746622],\n",
       "       [31.58551751],\n",
       "       [22.87549962],\n",
       "       [40.32429004],\n",
       "       [54.67853388],\n",
       "       [22.97643241],\n",
       "       [20.62526372],\n",
       "       [50.82784197],\n",
       "       [48.10170804],\n",
       "       [21.69830801],\n",
       "       [32.42232928],\n",
       "       [50.04688568],\n",
       "       [26.73055098],\n",
       "       [37.50483415],\n",
       "       [22.47312514],\n",
       "       [45.46843739],\n",
       "       [50.15553875],\n",
       "       [20.21459654],\n",
       "       [34.3629526 ],\n",
       "       [55.94660798],\n",
       "       [35.56171115],\n",
       "       [15.34873006],\n",
       "       [41.2368014 ],\n",
       "       [38.57684399],\n",
       "       [30.99029811],\n",
       "       [23.32784938],\n",
       "       [23.27675204],\n",
       "       [30.81167327],\n",
       "       [48.6598915 ],\n",
       "       [16.232788  ],\n",
       "       [18.36499163],\n",
       "       [36.71643598],\n",
       "       [42.57410639],\n",
       "       [48.94090002],\n",
       "       [24.82007599],\n",
       "       [36.82156887],\n",
       "       [62.49523429],\n",
       "       [25.56451661],\n",
       "       [44.21404807],\n",
       "       [29.97751704],\n",
       "       [54.23943838],\n",
       "       [50.07332891],\n",
       "       [52.50850854],\n",
       "       [46.93263424],\n",
       "       [20.94601953],\n",
       "       [23.74695545],\n",
       "       [42.71078192],\n",
       "       [41.89553523],\n",
       "       [37.7049544 ],\n",
       "       [51.00030819],\n",
       "       [27.45025418],\n",
       "       [40.51594386],\n",
       "       [19.10717658],\n",
       "       [36.52581296],\n",
       "       [40.68448112],\n",
       "       [31.9391391 ],\n",
       "       [61.13965007],\n",
       "       [17.38923293],\n",
       "       [57.05669396],\n",
       "       [57.21968055],\n",
       "       [39.82288722],\n",
       "       [25.88029273],\n",
       "       [43.34819182],\n",
       "       [30.83312098],\n",
       "       [67.41952491],\n",
       "       [50.85777355],\n",
       "       [51.28215427],\n",
       "       [51.5775349 ],\n",
       "       [39.53755828],\n",
       "       [28.13251539],\n",
       "       [21.32303213],\n",
       "       [21.51271581],\n",
       "       [47.05382049],\n",
       "       [11.71994567],\n",
       "       [42.64861822],\n",
       "       [11.80460902],\n",
       "       [37.58445648],\n",
       "       [47.93165461],\n",
       "       [57.40397912],\n",
       "       [45.60730127],\n",
       "       [18.1294998 ],\n",
       "       [73.11529565],\n",
       "       [21.00882162],\n",
       "       [51.92114219],\n",
       "       [15.53487821],\n",
       "       [54.43426949],\n",
       "       [29.91886713],\n",
       "       [30.55902979],\n",
       "       [27.22028418],\n",
       "       [35.41396744],\n",
       "       [15.58397085],\n",
       "       [48.88634254],\n",
       "       [47.26611593],\n",
       "       [35.84722843],\n",
       "       [21.97243423],\n",
       "       [20.05407237],\n",
       "       [27.65996422],\n",
       "       [24.54593665],\n",
       "       [14.85220521],\n",
       "       [57.2534569 ],\n",
       "       [27.84714299],\n",
       "       [44.57427579],\n",
       "       [45.42655102],\n",
       "       [26.38357252],\n",
       "       [20.6975307 ],\n",
       "       [21.32718846],\n",
       "       [31.80074314],\n",
       "       [33.15001136],\n",
       "       [32.74754366],\n",
       "       [40.10703055],\n",
       "       [70.00020718],\n",
       "       [ 6.01571538],\n",
       "       [47.74628447],\n",
       "       [36.87524999],\n",
       "       [31.38822829],\n",
       "       [46.19401572],\n",
       "       [47.13443244],\n",
       "       [35.88280529],\n",
       "       [12.39007602],\n",
       "       [22.58300698],\n",
       "       [45.67378024],\n",
       "       [23.05489101],\n",
       "       [32.80570638],\n",
       "       [17.38249327],\n",
       "       [54.07493225],\n",
       "       [30.51053287],\n",
       "       [27.88007021],\n",
       "       [39.23756186],\n",
       "       [51.92114219],\n",
       "       [27.75972211],\n",
       "       [10.03537847],\n",
       "       [29.40348063],\n",
       "       [31.58098349],\n",
       "       [70.13505348],\n",
       "       [58.82883365],\n",
       "       [15.88574912],\n",
       "       [17.38356978],\n",
       "       [30.11861436],\n",
       "       [10.17068737],\n",
       "       [14.64874783],\n",
       "       [41.86343395],\n",
       "       [14.57472544],\n",
       "       [24.4637268 ],\n",
       "       [47.93165461],\n",
       "       [37.65580301],\n",
       "       [20.25449895],\n",
       "       [27.09552981],\n",
       "       [44.69640603],\n",
       "       [77.38582327],\n",
       "       [24.67752123],\n",
       "       [33.96774799],\n",
       "       [ 7.1944036 ],\n",
       "       [25.64330739],\n",
       "       [28.14355733],\n",
       "       [17.19356757],\n",
       "       [12.36093277],\n",
       "       [54.43533206],\n",
       "       [61.3041562 ],\n",
       "       [62.52385448],\n",
       "       [64.28439838],\n",
       "       [21.89735054],\n",
       "       [20.93136789],\n",
       "       [67.47909702],\n",
       "       [26.1661471 ],\n",
       "       [41.2368014 ],\n",
       "       [36.25170282],\n",
       "       [44.4690337 ],\n",
       "       [12.1834547 ],\n",
       "       [40.64774163],\n",
       "       [32.92977809],\n",
       "       [49.99197614],\n",
       "       [44.91437481],\n",
       "       [27.64499985],\n",
       "       [39.81226148],\n",
       "       [19.80758212],\n",
       "       [43.93996782],\n",
       "       [52.53189715],\n",
       "       [33.4420957 ],\n",
       "       [53.1481379 ],\n",
       "       [46.93263424],\n",
       "       [40.57276696],\n",
       "       [29.76885718],\n",
       "       [11.60364764],\n",
       "       [31.8236568 ],\n",
       "       [13.37017818],\n",
       "       [30.77793947],\n",
       "       [41.58201237],\n",
       "       [47.80932965],\n",
       "       [34.37452314],\n",
       "       [47.80313499],\n",
       "       [10.7996094 ],\n",
       "       [26.19259033],\n",
       "       [46.13350887],\n",
       "       [68.80301805],\n",
       "       [43.21149197],\n",
       "       [49.08539944],\n",
       "       [22.20698862],\n",
       "       [16.52251034],\n",
       "       [69.97054734],\n",
       "       [25.37373789],\n",
       "       [50.18873908],\n",
       "       [47.58203633],\n",
       "       [16.88627192],\n",
       "       [11.17993277],\n",
       "       [19.24739828],\n",
       "       [21.88497876],\n",
       "       [37.46436468],\n",
       "       [45.94627999],\n",
       "       [59.84568882],\n",
       "       [25.11243797],\n",
       "       [30.35823241],\n",
       "       [26.81878032],\n",
       "       [41.43019772],\n",
       "       [40.34400313],\n",
       "       [17.10739317],\n",
       "       [24.2273632 ],\n",
       "       [55.16928105],\n",
       "       [61.47291668],\n",
       "       [53.59490359],\n",
       "       [44.66453483],\n",
       "       [48.72544704],\n",
       "       [40.94961141],\n",
       "       [54.43533206],\n",
       "       [18.23815288],\n",
       "       [41.76673681],\n",
       "       [11.27861515],\n",
       "       [23.93668738],\n",
       "       [26.71583208],\n",
       "       [22.31860397],\n",
       "       [ 9.58393541],\n",
       "       [34.34116354],\n",
       "       [15.32672535],\n",
       "       [27.96680289],\n",
       "       [29.14549112],\n",
       "       [28.76302583],\n",
       "       [34.50560183],\n",
       "       [51.23001537],\n",
       "       [34.70201899],\n",
       "       [32.10979254],\n",
       "       [48.65120674],\n",
       "       [22.67874678],\n",
       "       [31.82355746],\n",
       "       [42.54722269],\n",
       "       [52.47796387],\n",
       "       [53.36160426],\n",
       "       [14.54259076],\n",
       "       [55.03395765],\n",
       "       [43.96586888],\n",
       "       [53.2595233 ],\n",
       "       [34.62570429],\n",
       "       [31.72190299],\n",
       "       [25.73343437],\n",
       "       [47.13443244],\n",
       "       [43.95187924],\n",
       "       [33.20789838],\n",
       "       [40.41327885],\n",
       "       [48.06627176],\n",
       "       [21.86891655],\n",
       "       [33.25203546],\n",
       "       [33.44105756],\n",
       "       [51.02996103],\n",
       "       [39.32150665],\n",
       "       [40.05766676],\n",
       "       [58.49676506],\n",
       "       [20.18297394],\n",
       "       [33.42657396],\n",
       "       [35.70520295],\n",
       "       [30.83458306],\n",
       "       [25.49295937],\n",
       "       [27.53633058],\n",
       "       [33.34289108],\n",
       "       [47.23885315],\n",
       "       [84.69863315],\n",
       "       [34.31852113],\n",
       "       [37.29981758],\n",
       "       [25.98829126],\n",
       "       [34.92901764],\n",
       "       [53.94502078],\n",
       "       [17.10314739],\n",
       "       [55.18583227],\n",
       "       [48.77639388],\n",
       "       [40.27228365],\n",
       "       [43.14135877],\n",
       "       [29.15899738],\n",
       "       [23.05254952],\n",
       "       [30.35799169],\n",
       "       [43.5833518 ],\n",
       "       [64.37280978],\n",
       "       [35.38876989],\n",
       "       [52.00955359],\n",
       "       [28.82572995],\n",
       "       [48.06306589],\n",
       "       [46.30227969],\n",
       "       [31.51747059],\n",
       "       [23.6970167 ],\n",
       "       [16.57037818],\n",
       "       [34.36547989],\n",
       "       [33.9713427 ],\n",
       "       [18.32880199],\n",
       "       [40.98098514],\n",
       "       [20.08151235],\n",
       "       [46.93679056],\n",
       "       [15.39052424],\n",
       "       [40.46258531],\n",
       "       [73.11529565],\n",
       "       [29.97869409],\n",
       "       [30.61635498],\n",
       "       [40.15723634],\n",
       "       [47.93165461],\n",
       "       [51.86098636],\n",
       "       [25.24855   ],\n",
       "       [ 6.75078025],\n",
       "       [47.76714848],\n",
       "       [22.58153185],\n",
       "       [39.31275085],\n",
       "       [31.88861898],\n",
       "       [25.27652068],\n",
       "       [38.40593685],\n",
       "       [15.33391684],\n",
       "       [36.57095655],\n",
       "       [54.10459208],\n",
       "       [26.13812657],\n",
       "       [54.67853388],\n",
       "       [ 7.76002566],\n",
       "       [56.88010515],\n",
       "       [24.43728357],\n",
       "       [53.08700446],\n",
       "       [39.15620597],\n",
       "       [22.04146585],\n",
       "       [80.02298712],\n",
       "       [16.48101555],\n",
       "       [26.56228272],\n",
       "       [33.22970266],\n",
       "       [50.04688568],\n",
       "       [49.34377602],\n",
       "       [37.15079888],\n",
       "       [25.38201251],\n",
       "       [24.8168907 ],\n",
       "       [31.80959418],\n",
       "       [25.04507472],\n",
       "       [49.99197614],\n",
       "       [27.94573163],\n",
       "       [32.69135629],\n",
       "       [26.50220478],\n",
       "       [61.1693099 ],\n",
       "       [46.31558   ],\n",
       "       [37.27661622],\n",
       "       [33.74885458],\n",
       "       [27.69621214],\n",
       "       [26.43975989],\n",
       "       [64.84122006],\n",
       "       [43.68419237],\n",
       "       [23.05790889],\n",
       "       [27.89720484],\n",
       "       [45.46199546],\n",
       "       [41.8577708 ],\n",
       "       [25.41733767],\n",
       "       [56.03333136],\n",
       "       [55.39218462],\n",
       "       [69.25721936],\n",
       "       [13.53334536],\n",
       "       [23.9085251 ],\n",
       "       [26.45038562],\n",
       "       [49.774927  ],\n",
       "       [57.21968055],\n",
       "       [48.88189016],\n",
       "       [44.71677868],\n",
       "       [21.65651383],\n",
       "       [22.7094826 ],\n",
       "       [25.59479219],\n",
       "       [42.15782387],\n",
       "       [27.29823478],\n",
       "       [70.13505348],\n",
       "       [ 8.40690417],\n",
       "       [30.62256785],\n",
       "       [32.20629579],\n",
       "       [52.17188483],\n",
       "       [19.00821286],\n",
       "       [22.65495873],\n",
       "       [30.90101934],\n",
       "       [35.77860352],\n",
       "       [49.8872939 ],\n",
       "       [39.86472527],\n",
       "       [17.58639892],\n",
       "       [26.90391895],\n",
       "       [21.26374436],\n",
       "       [51.6176433 ],\n",
       "       [68.42922481],\n",
       "       [72.22411449],\n",
       "       [75.86773588],\n",
       "       [23.69135355],\n",
       "       [52.780971  ],\n",
       "       [39.12294886],\n",
       "       [29.47081975],\n",
       "       [12.32349915],\n",
       "       [28.26838423],\n",
       "       [33.33159757],\n",
       "       [40.75179475],\n",
       "       [16.1779374 ],\n",
       "       [25.35222948],\n",
       "       [36.4197979 ],\n",
       "       [15.40540717],\n",
       "       [57.81958825],\n",
       "       [31.70155132],\n",
       "       [44.08277172],\n",
       "       [30.65818612],\n",
       "       [35.48899927],\n",
       "       [19.87953387],\n",
       "       [22.19353289],\n",
       "       [25.18334492],\n",
       "       [16.64451284],\n",
       "       [51.92114219],\n",
       "       [23.72144439],\n",
       "       [25.35761146],\n",
       "       [25.02383023],\n",
       "       [36.96633588],\n",
       "       [21.83103198],\n",
       "       [55.40221048],\n",
       "       [26.79649312],\n",
       "       [32.14569285],\n",
       "       [29.33106676],\n",
       "       [24.63658576],\n",
       "       [50.9723186 ],\n",
       "       [48.12648572],\n",
       "       [38.19640275],\n",
       "       [27.44088401],\n",
       "       [48.1621263 ],\n",
       "       [58.69491934],\n",
       "       [48.40987128],\n",
       "       [22.1058664 ],\n",
       "       [40.32429004],\n",
       "       [73.11529565],\n",
       "       [17.01848404],\n",
       "       [44.35969725],\n",
       "       [16.90845025],\n",
       "       [28.39423522],\n",
       "       [47.58203633],\n",
       "       [15.16550088],\n",
       "       [48.94090002],\n",
       "       [63.9934577 ],\n",
       "       [33.47050488],\n",
       "       [28.96206836],\n",
       "       [32.51882255],\n",
       "       [33.18008371],\n",
       "       [16.89499452],\n",
       "       [16.67389586],\n",
       "       [32.75334115],\n",
       "       [37.85483719],\n",
       "       [24.0443438 ],\n",
       "       [23.52719159],\n",
       "       [21.0049442 ],\n",
       "       [40.82824419],\n",
       "       [17.48199306],\n",
       "       [16.03247543],\n",
       "       [48.12648572],\n",
       "       [19.47143673],\n",
       "       [44.71677868],\n",
       "       [27.14344227],\n",
       "       [53.56723409],\n",
       "       [17.15817989],\n",
       "       [39.72614253],\n",
       "       [39.75607411],\n",
       "       [31.66564684],\n",
       "       [19.83539679],\n",
       "       [15.87702651],\n",
       "       [27.82270043],\n",
       "       [46.51566687],\n",
       "       [27.45294609],\n",
       "       [23.18347924],\n",
       "       [52.32134402],\n",
       "       [33.30438937],\n",
       "       [21.60538058],\n",
       "       [15.58956677],\n",
       "       [30.88717591],\n",
       "       [28.78090891],\n",
       "       [22.49210594],\n",
       "       [31.52844462],\n",
       "       [29.22581048],\n",
       "       [32.24624461],\n",
       "       [17.79482955],\n",
       "       [19.49166786],\n",
       "       [38.05002283],\n",
       "       [54.23943838],\n",
       "       [31.49112869],\n",
       "       [11.8088548 ],\n",
       "       [14.30441195],\n",
       "       [44.26969149],\n",
       "       [22.19353289],\n",
       "       [12.28295449],\n",
       "       [29.17058422],\n",
       "       [34.70892275],\n",
       "       [24.0443438 ],\n",
       "       [26.7573497 ],\n",
       "       [47.48243263],\n",
       "       [34.62218723],\n",
       "       [26.18731764],\n",
       "       [54.20685763],\n",
       "       [40.18924039],\n",
       "       [27.90672391],\n",
       "       [42.40667091],\n",
       "       [64.77750526],\n",
       "       [24.92336987],\n",
       "       [28.2448395 ],\n",
       "       [14.04986782],\n",
       "       [39.31275085],\n",
       "       [ 8.40461038],\n",
       "       [50.25966301],\n",
       "       [44.40825877],\n",
       "       [14.88247378],\n",
       "       [58.12842465],\n",
       "       [66.08435418],\n",
       "       [49.33414933],\n",
       "       [31.77245725],\n",
       "       [33.1212388 ],\n",
       "       [71.92894646],\n",
       "       [42.84332135],\n",
       "       [29.69317157],\n",
       "       [41.87963891],\n",
       "       [43.52402871],\n",
       "       [32.89515481],\n",
       "       [32.11983784],\n",
       "       [28.43946797],\n",
       "       [28.76632254],\n",
       "       [44.30746189],\n",
       "       [21.26374436],\n",
       "       [44.85044663],\n",
       "       [54.40819886],\n",
       "       [34.52358388],\n",
       "       [54.2430582 ],\n",
       "       [30.99029811],\n",
       "       [43.84120123],\n",
       "       [21.79699145],\n",
       "       [ 9.96982846],\n",
       "       [38.55195362],\n",
       "       [59.59832753],\n",
       "       [27.13327379],\n",
       "       [32.12177489],\n",
       "       [48.12648572],\n",
       "       [ 8.75132946],\n",
       "       [61.3041562 ],\n",
       "       [21.81041932],\n",
       "       [36.05835865],\n",
       "       [37.61573798],\n",
       "       [21.13310024],\n",
       "       [52.92422063],\n",
       "       [18.57350749],\n",
       "       [20.69088452],\n",
       "       [48.24386225],\n",
       "       [31.45776234],\n",
       "       [47.80313499],\n",
       "       [20.15074358],\n",
       "       [28.85047176],\n",
       "       [19.84112913],\n",
       "       [40.91411022],\n",
       "       [35.48443288],\n",
       "       [17.0891175 ],\n",
       "       [44.06758162],\n",
       "       [50.02071562],\n",
       "       [30.34031216],\n",
       "       [50.91189678],\n",
       "       [45.92613936],\n",
       "       [26.17902838],\n",
       "       [64.28439838],\n",
       "       [41.8502585 ],\n",
       "       [60.61705684],\n",
       "       [23.12131642],\n",
       "       [40.95521657],\n",
       "       [28.5752904 ],\n",
       "       [26.1661471 ],\n",
       "       [50.91396092],\n",
       "       [42.80300302],\n",
       "       [41.46540641],\n",
       "       [18.23815288],\n",
       "       [40.39457339],\n",
       "       [24.25124602],\n",
       "       [32.66142471],\n",
       "       [16.47847114],\n",
       "       [60.42632208],\n",
       "       [40.82454456],\n",
       "       [41.21964458],\n",
       "       [16.85317745],\n",
       "       [26.15922397],\n",
       "       [52.13416525],\n",
       "       [40.70698902],\n",
       "       [15.55444502],\n",
       "       [44.43505401],\n",
       "       [46.4776828 ],\n",
       "       [27.00531447],\n",
       "       [40.91411022],\n",
       "       [16.62143576],\n",
       "       [19.04982769],\n",
       "       [44.28178315],\n",
       "       [20.61219572],\n",
       "       [73.67211733],\n",
       "       [21.08102275],\n",
       "       [51.10834662],\n",
       "       [40.51982934],\n",
       "       [61.3041562 ],\n",
       "       [38.68274149],\n",
       "       [46.5150343 ],\n",
       "       [20.10007476],\n",
       "       [57.21968055],\n",
       "       [37.82811403],\n",
       "       [26.8488201 ],\n",
       "       [16.18432217],\n",
       "       [44.30746189],\n",
       "       [12.28786055],\n",
       "       [33.47257635],\n",
       "       [17.15817989],\n",
       "       [54.43426949],\n",
       "       [16.53249361],\n",
       "       [42.11454732],\n",
       "       [48.40987128],\n",
       "       [23.71322165],\n",
       "       [46.19401572],\n",
       "       [38.44357292],\n",
       "       [43.58375492],\n",
       "       [35.84562673],\n",
       "       [32.8201825 ],\n",
       "       [47.26611593],\n",
       "       [36.07664094],\n",
       "       [72.49015283],\n",
       "       [57.2051515 ],\n",
       "       [15.78248438],\n",
       "       [48.40987128],\n",
       "       [48.87256276],\n",
       "       [52.17188483],\n",
       "       [31.06273933],\n",
       "       [18.66871654],\n",
       "       [21.20236678],\n",
       "       [33.20526227],\n",
       "       [25.02182915],\n",
       "       [30.76173452],\n",
       "       [50.57272801],\n",
       "       [46.22582594],\n",
       "       [31.67577917],\n",
       "       [29.85351714],\n",
       "       [14.78297399],\n",
       "       [21.82525255],\n",
       "       [ 6.98441612],\n",
       "       [28.70186777],\n",
       "       [24.54593665],\n",
       "       [22.45853877],\n",
       "       [15.79808263],\n",
       "       [35.34195309],\n",
       "       [43.01568554],\n",
       "       [48.25380065],\n",
       "       [52.05131084],\n",
       "       [25.18334492],\n",
       "       [32.39911819],\n",
       "       [26.35364094],\n",
       "       [31.5955494 ],\n",
       "       [42.43905902],\n",
       "       [64.28439838],\n",
       "       [47.93165461],\n",
       "       [27.78684308],\n",
       "       [49.13573112],\n",
       "       [58.03703643],\n",
       "       [51.77622116],\n",
       "       [33.51639544],\n",
       "       [22.82949723],\n",
       "       [33.85766761],\n",
       "       [26.28244512],\n",
       "       [29.58576611],\n",
       "       [31.1236896 ],\n",
       "       [ 7.74208405],\n",
       "       [43.20480267],\n",
       "       [31.70130358],\n",
       "       [48.82443221],\n",
       "       [51.60747482],\n",
       "       [40.98098514],\n",
       "       [45.74745931],\n",
       "       [20.99045101],\n",
       "       [26.24184152],\n",
       "       [66.63845288],\n",
       "       [26.40785853],\n",
       "       [41.73891545],\n",
       "       [45.12426346],\n",
       "       [38.33713601],\n",
       "       [41.60121805],\n",
       "       [22.7388824 ],\n",
       "       [54.23943838],\n",
       "       [63.39321721],\n",
       "       [37.11807491],\n",
       "       [44.30531707],\n",
       "       [36.25549947],\n",
       "       [19.42154538],\n",
       "       [22.61082165]])"
      ]
     },
     "execution_count": 75,
     "metadata": {},
     "output_type": "execute_result"
    }
   ],
   "source": [
    "y_train_pred = model.predict(x_train_sc)\n",
    "y_train_pred"
   ]
  },
  {
   "cell_type": "code",
   "execution_count": 76,
   "id": "dad917e3",
   "metadata": {},
   "outputs": [
    {
     "data": {
      "text/plain": [
       "((721, 6), (721, 1))"
      ]
     },
     "execution_count": 76,
     "metadata": {},
     "output_type": "execute_result"
    }
   ],
   "source": [
    "x_train_sc.shape,y_train.shape"
   ]
  },
  {
   "cell_type": "code",
   "execution_count": 77,
   "id": "ffd86634",
   "metadata": {},
   "outputs": [
    {
     "data": {
      "text/plain": [
       "0    28.785322\n",
       "1    17.439172\n",
       "2    23.023239\n",
       "3    18.794367\n",
       "4    34.797096\n",
       "dtype: float64"
      ]
     },
     "execution_count": 77,
     "metadata": {},
     "output_type": "execute_result"
    }
   ],
   "source": [
    "y_test_pred=model_full.predict(x_test_cn)\n",
    "y_test_pred.head()"
   ]
  },
  {
   "cell_type": "code",
   "execution_count": 78,
   "id": "c20b0c45",
   "metadata": {},
   "outputs": [
    {
     "name": "stdout",
     "output_type": "stream",
     "text": [
      "Train RMSE: 8.421746355564585\n",
      "Test RMSE: 9.354002988711757\n"
     ]
    }
   ],
   "source": [
    "print('Train RMSE:',np.sqrt(mean_squared_error(y_train,y_train_pred)))\n",
    "print('Test RMSE:',np.sqrt(mean_squared_error(y_test,y_test_pred)))"
   ]
  },
  {
   "cell_type": "code",
   "execution_count": 79,
   "id": "2777e636",
   "metadata": {},
   "outputs": [
    {
     "name": "stdout",
     "output_type": "stream",
     "text": [
      "Train MAPE: 0.23887102635919072\n",
      "Test MAPE: 0.248644130173472\n"
     ]
    }
   ],
   "source": [
    "print('Train MAPE:',mean_absolute_percentage_error(y_train,y_train_pred))\n",
    "print('Test MAPE:',mean_absolute_percentage_error(y_test,y_test_pred))"
   ]
  },
  {
   "cell_type": "code",
   "execution_count": 80,
   "id": "c8eb1780",
   "metadata": {},
   "outputs": [
    {
     "data": {
      "text/plain": [
       "DecisionTreeRegressor()"
      ]
     },
     "execution_count": 80,
     "metadata": {},
     "output_type": "execute_result"
    }
   ],
   "source": [
    "from sklearn.tree import DecisionTreeRegressor\n",
    "regressor=DecisionTreeRegressor()\n",
    "regressor.fit(x_train_sc,y_train)"
   ]
  },
  {
   "cell_type": "code",
   "execution_count": 81,
   "id": "5234429d",
   "metadata": {},
   "outputs": [
    {
     "data": {
      "text/plain": [
       "array([23.8       , 12.18      , 23.52      , 13.09      , 33.05      ,\n",
       "       66.82      , 20.28      , 50.46      , 39.05      , 21.92      ,\n",
       "       37.34      , 17.17      , 36.8       , 28.24      , 12.05      ,\n",
       "       26.86      , 37.625     , 53.96      , 53.58      , 34.67      ,\n",
       "       24.28      , 52.96      , 16.26      , 61.23      , 60.29      ,\n",
       "       46.24      , 39.4       , 14.54      , 39.3       , 11.58      ,\n",
       "       41.15      , 50.24      , 28.02      , 21.78      , 33.4       ,\n",
       "       32.88      , 19.35      , 24.5       , 26.23      ,  9.85      ,\n",
       "       35.1       , 15.46      , 52.83      , 40.06      , 34.67      ,\n",
       "       29.87      , 31.84      , 19.01      , 34.4       , 48.99      ,\n",
       "       24.48      , 32.07      , 67.11      , 55.16      , 68.5       ,\n",
       "       10.03      , 35.1       , 22.72      , 29.23      , 42.55      ,\n",
       "       48.795     , 41.84      , 54.32      , 53.77      , 21.91      ,\n",
       "       33.76      , 43.915     , 31.27      , 37.43      , 24.28      ,\n",
       "       41.1       , 24.48      , 32.88      , 12.46      , 76.8       ,\n",
       "       55.65      , 59.09      , 12.79      , 55.2       , 53.52      ,\n",
       "       31.35      , 46.2       , 50.46      , 45.71      , 29.55      ,\n",
       "       54.1       , 33.7       , 56.5       , 50.46      , 57.21      ,\n",
       "       36.35      , 31.18      , 26.2       , 51.33      , 32.01      ,\n",
       "       71.7       , 41.24      , 12.18      , 32.63      , 23.64      ,\n",
       "       39.3       , 66.78      , 42.7       , 34.4       , 50.53      ,\n",
       "       49.99      , 33.27      , 33.95      , 12.18      , 17.735     ,\n",
       "       19.69      , 28.24      , 14.2       , 29.87      , 29.65      ,\n",
       "       13.29      , 39.49      , 25.18      , 47.71      , 50.7       ,\n",
       "       79.3       , 71.7       , 41.24      , 17.95      , 13.78333333,\n",
       "       28.24      , 60.28      , 10.54      , 65.2       , 21.48      ,\n",
       "       13.2       , 31.595     , 13.46      , 32.4       , 40.57      ,\n",
       "       37.72      , 29.65      , 39.6       , 37.92      , 10.09      ,\n",
       "       54.32      , 37.17      , 37.43      , 52.01      , 59.2       ,\n",
       "       43.915     , 37.72      , 23.4       , 33.4       , 55.51      ,\n",
       "       64.3       , 47.13      , 70.7       , 38.5       , 32.72      ,\n",
       "       34.24      , 19.01      , 33.4       , 52.44      , 53.58      ,\n",
       "       28.24      , 39.4       , 49.19      , 23.51      , 55.2       ,\n",
       "       39.15      , 52.42      , 26.2       , 33.08      , 22.32      ,\n",
       "       37.17      , 14.7       , 42.13      , 28.02      , 52.83      ,\n",
       "       66.78      , 40.57      , 24.4       , 37.43      , 69.3       ,\n",
       "       21.86      , 74.99      , 33.05      , 36.8       , 26.06      ,\n",
       "       51.33      ,  4.83      , 27.53      , 32.4       , 31.27      ,\n",
       "       71.62      , 25.22      , 24.4       , 44.21      ,  9.45      ,\n",
       "       50.725     , 39.05      , 28.24      , 29.41      , 40.06      ,\n",
       "       35.1       , 47.74      , 11.65      , 35.1       , 32.07      ,\n",
       "       37.72      , 22.44      , 23.64      , 38.8       , 65.91      ,\n",
       "       13.54      , 33.56      , 17.54      , 45.9       , 26.06      ,\n",
       "       43.8       , 33.36      , 37.67      , 40.57      , 21.78      ,\n",
       "       66.78      , 24.85      , 40.71      , 29.93      , 16.89      ,\n",
       "       14.59      , 52.83      , 42.7       , 20.28      , 10.54      ,\n",
       "       14.14      , 35.87      , 41.15      , 33.21      , 21.86      ,\n",
       "       32.07      , 42.13      , 66.78      , 21.07      , 28.8       ,\n",
       "        7.68      , 37.43      , 36.8       , 56.81      , 35.31      ,\n",
       "       32.63      , 77.3       , 32.76      , 79.3       , 26.92      ,\n",
       "       53.105     , 23.8       , 42.03      , 25.22      , 66.78      ,\n",
       "        6.9       , 37.91      , 35.1       , 37.42      , 10.54      ,\n",
       "       50.77      , 41.84      , 24.45      , 37.26      , 20.59      ,\n",
       "       24.4       ,  6.47      , 27.77      , 34.67      , 21.92      ,\n",
       "       33.06      , 23.52      , 13.2       , 52.01      , 49.9       ,\n",
       "       13.57      , 28.63      , 43.38      , 52.83      , 21.92      ,\n",
       "       66.78      , 15.34      , 17.57      , 21.92      , 39.4       ,\n",
       "       29.16      , 44.7       , 15.09      , 57.23      , 49.99      ,\n",
       "       36.8       , 32.25      , 23.84      ,  9.87      , 47.74      ,\n",
       "       35.23      , 43.57      , 18.28      , 41.3       , 38.56      ,\n",
       "       13.66      , 26.05      , 43.915     , 35.1       , 37.26      ,\n",
       "       52.42      , 51.33      , 44.13      , 36.8       ])"
      ]
     },
     "execution_count": 81,
     "metadata": {},
     "output_type": "execute_result"
    }
   ],
   "source": [
    "y_pred=regressor.predict(x_test_sc)\n",
    "y_pred"
   ]
  },
  {
   "cell_type": "code",
   "execution_count": 82,
   "id": "f79cb234",
   "metadata": {},
   "outputs": [
    {
     "data": {
      "text/html": [
       "<div>\n",
       "<style scoped>\n",
       "    .dataframe tbody tr th:only-of-type {\n",
       "        vertical-align: middle;\n",
       "    }\n",
       "\n",
       "    .dataframe tbody tr th {\n",
       "        vertical-align: top;\n",
       "    }\n",
       "\n",
       "    .dataframe thead th {\n",
       "        text-align: right;\n",
       "    }\n",
       "</style>\n",
       "<table border=\"1\" class=\"dataframe\">\n",
       "  <thead>\n",
       "    <tr style=\"text-align: right;\">\n",
       "      <th></th>\n",
       "      <th>Real Values</th>\n",
       "      <th>Predicted Values</th>\n",
       "    </tr>\n",
       "  </thead>\n",
       "  <tbody>\n",
       "    <tr>\n",
       "      <th>339</th>\n",
       "      <td>21.91</td>\n",
       "      <td>23.80</td>\n",
       "    </tr>\n",
       "    <tr>\n",
       "      <th>244</th>\n",
       "      <td>19.93</td>\n",
       "      <td>12.18</td>\n",
       "    </tr>\n",
       "    <tr>\n",
       "      <th>882</th>\n",
       "      <td>36.44</td>\n",
       "      <td>23.52</td>\n",
       "    </tr>\n",
       "    <tr>\n",
       "      <th>567</th>\n",
       "      <td>11.96</td>\n",
       "      <td>13.09</td>\n",
       "    </tr>\n",
       "    <tr>\n",
       "      <th>923</th>\n",
       "      <td>39.84</td>\n",
       "      <td>33.05</td>\n",
       "    </tr>\n",
       "    <tr>\n",
       "      <th>...</th>\n",
       "      <td>...</td>\n",
       "      <td>...</td>\n",
       "    </tr>\n",
       "    <tr>\n",
       "      <th>1018</th>\n",
       "      <td>37.27</td>\n",
       "      <td>37.26</td>\n",
       "    </tr>\n",
       "    <tr>\n",
       "      <th>1015</th>\n",
       "      <td>52.43</td>\n",
       "      <td>52.42</td>\n",
       "    </tr>\n",
       "    <tr>\n",
       "      <th>341</th>\n",
       "      <td>47.40</td>\n",
       "      <td>51.33</td>\n",
       "    </tr>\n",
       "    <tr>\n",
       "      <th>750</th>\n",
       "      <td>44.09</td>\n",
       "      <td>44.13</td>\n",
       "    </tr>\n",
       "    <tr>\n",
       "      <th>937</th>\n",
       "      <td>36.80</td>\n",
       "      <td>36.80</td>\n",
       "    </tr>\n",
       "  </tbody>\n",
       "</table>\n",
       "<p>309 rows × 2 columns</p>\n",
       "</div>"
      ],
      "text/plain": [
       "      Real Values  Predicted Values\n",
       "339         21.91             23.80\n",
       "244         19.93             12.18\n",
       "882         36.44             23.52\n",
       "567         11.96             13.09\n",
       "923         39.84             33.05\n",
       "...           ...               ...\n",
       "1018        37.27             37.26\n",
       "1015        52.43             52.42\n",
       "341         47.40             51.33\n",
       "750         44.09             44.13\n",
       "937         36.80             36.80\n",
       "\n",
       "[309 rows x 2 columns]"
      ]
     },
     "execution_count": 82,
     "metadata": {},
     "output_type": "execute_result"
    }
   ],
   "source": [
    "df = pd.DataFrame({'Real Values':y_test, 'Predicted Values':y_pred})\n",
    "df"
   ]
  },
  {
   "cell_type": "code",
   "execution_count": 83,
   "id": "ffe82a6f",
   "metadata": {},
   "outputs": [
    {
     "data": {
      "text/plain": [
       "0.8294050640848574"
      ]
     },
     "execution_count": 83,
     "metadata": {},
     "output_type": "execute_result"
    }
   ],
   "source": [
    "from sklearn.metrics import r2_score\n",
    "score = r2_score(y_test,y_pred)\n",
    "score"
   ]
  },
  {
   "cell_type": "code",
   "execution_count": 84,
   "id": "60f890a1",
   "metadata": {},
   "outputs": [],
   "source": [
    "from sklearn.ensemble import RandomForestRegressor,GradientBoostingRegressor"
   ]
  },
  {
   "cell_type": "code",
   "execution_count": 85,
   "id": "2b7e7478",
   "metadata": {},
   "outputs": [
    {
     "data": {
      "text/plain": [
       "RandomForestRegressor()"
      ]
     },
     "execution_count": 85,
     "metadata": {},
     "output_type": "execute_result"
    }
   ],
   "source": [
    "rf=RandomForestRegressor()\n",
    "rf.fit(x_train_sc,y_train)"
   ]
  },
  {
   "cell_type": "code",
   "execution_count": 86,
   "id": "92ebead6",
   "metadata": {},
   "outputs": [
    {
     "data": {
      "text/plain": [
       "array([23.0617    , 14.1526    , 23.36406667, 13.9579    , 33.7542    ,\n",
       "       63.4986    , 19.76636   , 46.9397869 , 40.6674    , 19.7061    ,\n",
       "       38.724875  , 13.3326    , 37.31346   , 30.22218333, 12.1633    ,\n",
       "       28.3456    , 38.28248333, 54.5013    , 60.151325  , 32.0888    ,\n",
       "       24.4305    , 50.9706    , 16.7618    , 59.286475  , 62.5078    ,\n",
       "       43.211945  , 31.5364    , 26.83169167, 35.6798    , 12.8334    ,\n",
       "       42.39357167, 51.328275  , 27.9865    , 21.2122    , 35.8762    ,\n",
       "       36.8377    , 15.3734    , 25.169     , 25.64230167,  9.3199    ,\n",
       "       32.305275  , 15.19360262, 49.0882    , 36.961125  , 32.2251    ,\n",
       "       26.508475  , 32.119325  , 24.28198333, 32.8332    , 50.4487    ,\n",
       "       25.8718    , 36.03195   , 62.9963    , 55.7116    , 60.99215   ,\n",
       "        9.207     , 30.53835   , 24.2421    , 33.49376667, 44.5074    ,\n",
       "       47.9385781 , 42.25756667, 51.85545   , 47.07125   , 26.91188167,\n",
       "       34.1552    , 51.18195417, 36.0232    , 38.75943333, 26.663     ,\n",
       "       35.44769167, 25.2959    , 36.8377    , 12.18287619, 70.924275  ,\n",
       "       59.74772   , 50.7958    , 12.3679    , 56.129     , 48.8711    ,\n",
       "       35.7419    , 44.56      , 46.9397869 , 38.1165    , 33.6979    ,\n",
       "       49.3029    , 30.3076    , 59.2911    , 46.9397869 , 55.45715   ,\n",
       "       36.3266    , 32.823025  , 29.4253    , 39.948     , 30.80198333,\n",
       "       65.78485   , 40.3855419 , 13.0625    , 32.4872    , 23.03885   ,\n",
       "       36.2507    , 63.90902167, 37.6521    , 35.2474    , 46.65606667,\n",
       "       40.15906667, 28.7759    , 36.2316    , 13.476     , 18.28631667,\n",
       "       20.0323    , 34.05213333, 12.6479    , 26.545775  , 29.9065    ,\n",
       "       13.7848    , 40.1279    , 40.6317    , 46.39479476, 53.04558333,\n",
       "       79.095     , 62.7597    , 40.38541333, 18.8877    , 15.13924119,\n",
       "       30.30596667, 57.2605475 , 12.60256667, 65.7562    , 18.8824    ,\n",
       "       14.6513    , 32.348845  , 14.9976    , 32.8673    , 38.8506    ,\n",
       "       43.77584833, 30.4066    , 38.99239167, 37.705525  , 10.2632    ,\n",
       "       54.826     , 38.5497    , 35.9467    , 48.68406667, 62.5811925 ,\n",
       "       52.94029583, 43.77584833, 18.98936   , 35.8762    , 43.2886    ,\n",
       "       64.8971    , 47.73185   , 68.6889    , 41.934425  , 33.308565  ,\n",
       "       32.1381    , 23.30531667, 35.9092    , 55.33766   , 57.51685   ,\n",
       "       29.3125    , 39.245     , 49.49010167, 24.6673    , 55.8744    ,\n",
       "       41.7947    , 52.12345   , 27.6431    , 36.3638    , 22.4343    ,\n",
       "       38.209425  , 17.297325  , 44.54126667, 28.037     , 49.0882    ,\n",
       "       62.61993333, 42.1171    , 24.94400167, 35.9487    , 68.272     ,\n",
       "       23.0762    , 64.97855417, 33.2017    , 37.97916   , 26.8267    ,\n",
       "       39.4096    ,  5.1543    , 25.2374    , 29.1828    , 36.55083333,\n",
       "       70.3181125 , 23.76505   , 26.3753    , 42.8799    , 11.7825    ,\n",
       "       51.415835  , 32.157525  , 30.39486667, 29.69495833, 36.961125  ,\n",
       "       31.1304    , 44.7675    , 10.6476    , 31.1304    , 36.03195   ,\n",
       "       43.77584833, 24.44025   , 26.09425   , 37.0633    , 61.269     ,\n",
       "       14.8584    , 36.801     , 19.13401667, 42.3688    , 26.1959    ,\n",
       "       43.9682    , 34.555     , 37.37151143, 40.7691    , 21.3809    ,\n",
       "       63.90902167, 29.2755    , 35.1786    , 25.3349    , 14.2023    ,\n",
       "       12.9336    , 48.900725  , 36.655     , 19.43586   , 16.59336667,\n",
       "       15.980675  , 45.604075  , 42.39357167, 37.22245   , 20.28245   ,\n",
       "       31.17885   , 44.54126667, 64.97261667, 28.5293    , 21.8016    ,\n",
       "        8.5176    , 36.4256    , 47.131075  , 51.9185    , 34.2133    ,\n",
       "       34.2356    , 77.28      , 33.13756667, 79.095     , 24.9379    ,\n",
       "       52.60408667, 22.05345   , 44.8789    , 24.97005   , 66.775375  ,\n",
       "        9.0073    , 38.85676   , 30.259     , 34.8687    , 16.56836667,\n",
       "       49.34415   , 42.25756667, 27.1312    , 35.61538333, 22.4445    ,\n",
       "       27.01315   , 10.745     , 26.755     , 33.8108    , 18.3697    ,\n",
       "       32.4348    , 22.6833    , 18.7165    , 48.68406667, 63.7249    ,\n",
       "       16.02244   , 34.6543    , 40.5485    , 48.900725  , 20.7154    ,\n",
       "       63.90902167, 18.582     , 18.1401    , 14.8796    , 39.245     ,\n",
       "       35.9287    , 42.6365    , 17.1655    , 66.21267292, 43.5894    ,\n",
       "       47.271775  , 31.6734    , 27.6221    , 11.01946238, 44.4076    ,\n",
       "       32.84063333, 43.6249    , 19.8736    , 34.2956    , 38.935     ,\n",
       "       12.1941    , 26.596     , 45.70396667, 27.7331    , 39.35125   ,\n",
       "       50.907025  , 40.5674    , 46.32541667, 38.5241    ])"
      ]
     },
     "execution_count": 86,
     "metadata": {},
     "output_type": "execute_result"
    }
   ],
   "source": [
    "y_pred=rf.predict(x_test_sc)\n",
    "y_pred"
   ]
  },
  {
   "cell_type": "code",
   "execution_count": 87,
   "id": "4edfcc2c",
   "metadata": {},
   "outputs": [
    {
     "data": {
      "text/plain": [
       "0.8753353946450901"
      ]
     },
     "execution_count": 87,
     "metadata": {},
     "output_type": "execute_result"
    }
   ],
   "source": [
    "score = r2_score(y_test,y_pred)\n",
    "score"
   ]
  },
  {
   "cell_type": "code",
   "execution_count": 88,
   "id": "db44a9d2",
   "metadata": {},
   "outputs": [
    {
     "data": {
      "text/plain": [
       "GradientBoostingRegressor()"
      ]
     },
     "execution_count": 88,
     "metadata": {},
     "output_type": "execute_result"
    }
   ],
   "source": [
    "gb=GradientBoostingRegressor()\n",
    "gb.fit(x_train_sc,y_train)"
   ]
  },
  {
   "cell_type": "code",
   "execution_count": 305,
   "id": "087a845a",
   "metadata": {},
   "outputs": [
    {
     "data": {
      "text/plain": [
       "array([21.58624273, 13.34874538, 23.46556297, 15.12404452, 34.72759422,\n",
       "       64.1283228 , 19.93102402, 48.71081941, 41.01726645, 20.81921404,\n",
       "       38.15606944, 14.4398262 , 39.27763549, 32.19847661,  9.02686278,\n",
       "       26.76430769, 38.27951159, 59.1580608 , 55.52171742, 35.10395309,\n",
       "       23.17856171, 52.62830948, 17.77183376, 61.00925657, 60.05015811,\n",
       "       40.02480074, 33.87680569, 27.88004098, 34.49956879, 14.02338552,\n",
       "       42.01607917, 55.22488885, 29.97372986, 25.74714963, 35.62289147,\n",
       "       38.83499516, 16.59293956, 27.66613387, 24.57299514, 15.53451801,\n",
       "       41.01403967, 13.8238506 , 47.24711651, 38.40805007, 34.80076405,\n",
       "       26.94137799, 33.70253325, 26.49374787, 33.18864655, 52.47378871,\n",
       "       26.03856861, 35.92352527, 61.09455111, 52.47054015, 57.9973574 ,\n",
       "        9.94192155, 39.16222835, 22.11717639, 30.51913675, 45.20246677,\n",
       "       49.30863033, 43.48525839, 53.6702724 , 48.05314073, 20.74776397,\n",
       "       35.12936027, 49.85770094, 35.55803734, 41.87926896, 26.79663449,\n",
       "       29.80115288, 27.5930122 , 39.02897496, 13.50266695, 67.0451921 ,\n",
       "       58.43789117, 53.53420426, 14.56035383, 61.31398668, 43.55618643,\n",
       "       38.48800665, 43.21444943, 49.89193823, 33.17809801, 44.1852604 ,\n",
       "       42.36629019, 33.35198438, 60.59727546, 49.89193823, 48.13227571,\n",
       "       34.09260947, 34.77012197, 27.78348442, 40.69552025, 31.54843608,\n",
       "       70.21565352, 38.4079675 , 13.86982693, 35.72860831, 28.34379749,\n",
       "       35.58950969, 63.36504943, 37.24424496, 39.92546332, 47.84978734,\n",
       "       33.84973957, 27.13142848, 37.03676316, 16.86440625, 22.7758782 ,\n",
       "       22.49036856, 34.10234988,  9.05858346, 26.94137799, 33.99492701,\n",
       "       16.82610418, 36.76793501, 38.74916138, 46.60056473, 55.91988212,\n",
       "       75.98559788, 57.08624233, 38.4079675 , 18.52383042, 13.53602891,\n",
       "       28.29667823, 56.09161994, 14.07959919, 67.75551648, 22.07955785,\n",
       "       16.30368453, 32.43184227, 14.59986165, 33.77520575, 40.02719687,\n",
       "       41.57050474, 33.99492701, 38.64490067, 34.51477605, 11.60627704,\n",
       "       50.93474073, 38.01933725, 35.58380312, 46.45830669, 64.42743272,\n",
       "       51.33603323, 41.57050474, 16.78437602, 35.62289147, 45.0368104 ,\n",
       "       66.92187651, 43.69229135, 78.42682179, 46.92409176, 32.00256684,\n",
       "       29.47411241, 26.29403112, 36.14964383, 56.99374081, 54.87127385,\n",
       "       27.15427456, 47.58955689, 48.33046373, 22.68988362, 59.73794424,\n",
       "       43.66539912, 43.33502045, 32.5167168 , 38.02759971, 24.20390051,\n",
       "       38.48437314, 13.84538792, 44.65501662, 29.13368578, 47.24711651,\n",
       "       62.00897995, 42.32102964, 43.09904604, 35.71857227, 77.59318182,\n",
       "       26.34720508, 61.63205231, 35.20483303, 39.27763549, 31.04795511,\n",
       "       40.69552025,  5.41802731, 25.3906324 , 29.18141749, 34.23065133,\n",
       "       72.52930729, 24.63457926, 28.55869724, 38.97401363, 11.57768232,\n",
       "       56.77180449, 36.54754772, 28.29667823, 26.512757  , 38.40805007,\n",
       "       37.35801155, 44.6677301 ,  6.45282577, 37.35801155, 35.68904832,\n",
       "       41.6762393 , 27.20820083, 24.88873658, 38.15875226, 56.86158304,\n",
       "       16.61510745, 38.93622627, 22.41807143, 42.43363745, 23.18006016,\n",
       "       41.37022096, 30.69210117, 34.36817594, 40.62957017, 16.75304434,\n",
       "       63.36504943, 25.97449922, 35.41919362, 22.64974124, 15.55756176,\n",
       "       13.38139165, 47.41745293, 37.30646793, 19.93102402, 19.23614181,\n",
       "       19.22454818, 42.64477538, 42.12181373, 36.22125274, 24.21188848,\n",
       "       33.9796331 , 44.76075119, 63.36504943, 27.87263069, 21.44119078,\n",
       "        8.21323964, 35.3292761 , 49.5575868 , 53.04331997, 35.68623426,\n",
       "       35.87181464, 74.74618088, 35.82086559, 75.98559788, 24.25971229,\n",
       "       51.16200758, 23.82640354, 49.30840176, 27.34932245, 63.11198899,\n",
       "        9.82512872, 36.87071517, 49.65723068, 36.54754772, 19.23614181,\n",
       "       45.09902881, 43.48525839, 23.87740523, 36.6825443 , 20.17803802,\n",
       "       26.88408923, 11.85324065, 28.96540172, 37.16589562, 19.55672037,\n",
       "       29.76254861, 23.46556297, 21.7964594 , 46.45830669, 59.34082055,\n",
       "       16.45728156, 36.01512139, 35.3652449 , 47.41745293, 22.97645169,\n",
       "       63.36504943, 19.48127813, 19.48643743, 19.43478676, 47.58955689,\n",
       "       38.45156052, 36.72403174, 17.36841383, 62.00496837, 47.66211319,\n",
       "       49.5575868 , 31.44693323, 31.17346184, 12.40842233, 45.10419217,\n",
       "       30.21635908, 43.30127783, 23.97690916, 34.3288584 , 41.97299656,\n",
       "       14.50214733, 23.4078169 , 42.02766483, 42.14956752, 43.05840393,\n",
       "       45.34320394, 40.99870929, 40.58860446, 43.36800473])"
      ]
     },
     "execution_count": 305,
     "metadata": {},
     "output_type": "execute_result"
    }
   ],
   "source": [
    "y_pred=gb.predict(x_test_sc)\n",
    "y_pred"
   ]
  },
  {
   "cell_type": "code",
   "execution_count": 89,
   "id": "df10f9d4",
   "metadata": {},
   "outputs": [
    {
     "data": {
      "text/plain": [
       "0.8753353946450901"
      ]
     },
     "execution_count": 89,
     "metadata": {},
     "output_type": "execute_result"
    }
   ],
   "source": [
    "score = r2_score(y_test,y_pred)\n",
    "score"
   ]
  },
  {
   "cell_type": "code",
   "execution_count": 90,
   "id": "d8951941",
   "metadata": {},
   "outputs": [],
   "source": [
    "from sklearn.model_selection import GridSearchCV"
   ]
  },
  {
   "cell_type": "code",
   "execution_count": 91,
   "id": "76010d0b",
   "metadata": {},
   "outputs": [
    {
     "data": {
      "text/plain": [
       "{'max_depth': 5}"
      ]
     },
     "execution_count": 91,
     "metadata": {},
     "output_type": "execute_result"
    }
   ],
   "source": [
    "tuned_parameter=[{'max_depth':[2, 3, 4, 5, 6, 7, 8]}]\n",
    "model=GradientBoostingRegressor(random_state=10)\n",
    "tree_grid=GridSearchCV(estimator=model,param_grid=tuned_parameter,cv=3)\n",
    "tree_grid.fit(x_train,y_train)\n",
    "tree_grid.best_params_"
   ]
  },
  {
   "cell_type": "code",
   "execution_count": 92,
   "id": "ef499398",
   "metadata": {},
   "outputs": [],
   "source": [
    "from sklearn.linear_model import Ridge\n",
    "from sklearn.linear_model import Lasso"
   ]
  },
  {
   "cell_type": "code",
   "execution_count": 93,
   "id": "e152cac0",
   "metadata": {},
   "outputs": [],
   "source": [
    "from xgboost import XGBRegressor"
   ]
  },
  {
   "cell_type": "code",
   "execution_count": 94,
   "id": "5e882480",
   "metadata": {},
   "outputs": [],
   "source": [
    "XGB=XGBRegressor()"
   ]
  },
  {
   "cell_type": "code",
   "execution_count": 95,
   "id": "80894ecf",
   "metadata": {},
   "outputs": [
    {
     "data": {
      "text/plain": [
       "XGBRegressor(base_score=0.5, booster='gbtree', colsample_bylevel=1,\n",
       "             colsample_bynode=1, colsample_bytree=1, enable_categorical=False,\n",
       "             gamma=0, gpu_id=-1, importance_type=None,\n",
       "             interaction_constraints='', learning_rate=0.300000012,\n",
       "             max_delta_step=0, max_depth=6, min_child_weight=1, missing=nan,\n",
       "             monotone_constraints='()', n_estimators=100, n_jobs=8,\n",
       "             num_parallel_tree=1, predictor='auto', random_state=0, reg_alpha=0,\n",
       "             reg_lambda=1, scale_pos_weight=1, subsample=1, tree_method='exact',\n",
       "             validate_parameters=1, verbosity=None)"
      ]
     },
     "execution_count": 95,
     "metadata": {},
     "output_type": "execute_result"
    }
   ],
   "source": [
    "XGB.fit(x_train_sc,y_train)"
   ]
  },
  {
   "cell_type": "code",
   "execution_count": 96,
   "id": "62449729",
   "metadata": {},
   "outputs": [
    {
     "data": {
      "text/plain": [
       "array([22.457806 , 15.997628 , 21.623322 , 15.299233 , 34.81867  ,\n",
       "       66.42505  , 16.195417 , 50.209038 , 42.87882  , 20.011854 ,\n",
       "       34.076138 , 12.082429 , 40.12608  , 30.375246 , 11.142429 ,\n",
       "       27.087397 , 37.564877 , 55.211147 , 58.691036 , 33.976948 ,\n",
       "       22.785723 , 50.03766  , 17.601347 , 61.30013  , 58.50215  ,\n",
       "       44.709484 , 38.364346 , 25.60996  , 38.97287  , 14.64547  ,\n",
       "       41.28656  , 52.106728 , 28.351198 , 24.866055 , 33.806435 ,\n",
       "       37.56031  , 19.751698 , 24.909538 , 26.011465 , 15.69124  ,\n",
       "       29.035671 , 14.551752 , 45.01368  , 37.233673 , 32.327072 ,\n",
       "       23.070517 , 31.892946 , 28.100851 , 26.61337  , 47.57175  ,\n",
       "       24.952547 , 36.55955  , 66.653275 , 55.20349  , 56.3506   ,\n",
       "       10.0469265, 40.263504 , 24.172077 , 31.964218 , 47.23036  ,\n",
       "       48.80647  , 41.62494  , 54.6487   , 52.466316 , 22.065327 ,\n",
       "       34.07507  , 52.84112  , 34.400883 , 38.24258  , 26.154505 ,\n",
       "       33.245872 , 25.567177 , 37.56031  , 12.11413  , 74.35998  ,\n",
       "       64.3193   , 54.713417 , 12.965013 , 51.496765 , 52.323498 ,\n",
       "       37.695076 , 40.423023 , 50.209038 , 33.765522 , 43.604847 ,\n",
       "       45.670063 , 28.484945 , 52.848736 , 50.209038 , 56.8702   ,\n",
       "       36.690315 , 30.899767 , 28.053574 , 40.364433 , 31.945854 ,\n",
       "       72.47833  , 40.859398 , 13.082935 , 33.915096 , 29.797436 ,\n",
       "       38.774567 , 59.763306 , 37.063843 , 39.97834  , 48.36365  ,\n",
       "       39.522663 , 31.157072 , 39.47484  , 13.714046 , 23.125385 ,\n",
       "       20.007883 , 33.40342  , 13.000027 , 23.070517 , 37.036945 ,\n",
       "       13.22327  , 39.305172 , 41.635784 , 44.660973 , 53.265457 ,\n",
       "       79.33575  , 64.147995 , 41.021442 , 17.648155 , 17.204737 ,\n",
       "       28.206516 , 53.001736 ,  9.664442 , 64.25289  , 23.514952 ,\n",
       "       13.968583 , 35.715515 , 14.010039 , 36.842068 , 42.014755 ,\n",
       "       43.146164 , 37.143036 , 39.80572  , 37.86766  , 10.233771 ,\n",
       "       53.793594 , 37.565804 , 38.982784 , 50.575104 , 56.784054 ,\n",
       "       46.428753 , 43.146164 , 17.571636 , 33.806435 , 51.907078 ,\n",
       "       62.88286  , 48.713364 , 76.40952  , 51.457485 , 31.411406 ,\n",
       "       33.01393  , 27.84522  , 32.820595 , 56.65643  , 62.352394 ,\n",
       "       28.196852 , 40.269444 , 44.221455 , 23.830353 , 50.46739  ,\n",
       "       41.301174 , 42.47     , 32.59745  , 35.67038  , 22.049746 ,\n",
       "       40.763977 , 18.528494 , 42.3313   , 30.058327 , 45.01368  ,\n",
       "       59.2253   , 44.739273 , 31.649576 , 38.56843  , 76.70975  ,\n",
       "       24.402884 , 52.636177 , 35.09464  , 40.071033 , 28.581696 ,\n",
       "       40.492237 ,  3.7484136, 20.967758 , 27.01538  , 37.361816 ,\n",
       "       71.8216   , 22.970297 , 22.301653 , 43.891655 ,  9.535164 ,\n",
       "       51.249077 , 39.21337  , 28.256016 , 25.48778  , 37.177876 ,\n",
       "       30.392792 , 43.24494  ,  9.30706  , 30.392792 , 36.55955  ,\n",
       "       43.146164 , 24.357521 , 23.795147 , 38.468903 , 61.636585 ,\n",
       "       13.19349  , 33.944664 , 16.621738 , 42.661922 , 25.216051 ,\n",
       "       43.952473 , 30.720861 , 35.94625  , 45.815235 , 19.27775  ,\n",
       "       59.763306 , 26.512526 , 35.227192 , 25.446308 , 16.886131 ,\n",
       "       13.3361435, 43.813538 , 35.823437 , 16.753485 , 10.231533 ,\n",
       "       16.705042 , 48.38128  , 41.28656  , 34.54505  , 25.510214 ,\n",
       "       30.637236 , 42.3313   , 60.94249  , 25.838171 , 20.665361 ,\n",
       "        7.905883 , 37.389618 , 40.301476 , 55.408955 , 34.607944 ,\n",
       "       36.08016  , 77.416176 , 32.759853 , 79.33575  , 24.076382 ,\n",
       "       53.080982 , 22.545673 , 45.85698  , 23.46686  , 66.63257  ,\n",
       "       10.401818 , 38.147076 , 44.084743 , 34.314774 , 10.231533 ,\n",
       "       52.211433 , 41.62494  , 27.010723 , 37.587784 , 17.67732  ,\n",
       "       25.034477 , 14.642588 , 27.878225 , 40.985867 , 17.617481 ,\n",
       "       31.521963 , 22.256071 , 17.955511 , 50.575104 , 63.774166 ,\n",
       "       16.199633 , 33.391975 , 41.131546 , 43.813538 , 19.77072  ,\n",
       "       59.763306 , 23.010033 , 18.79703  , 17.615017 , 40.269444 ,\n",
       "       41.96302  , 44.4681   , 14.100964 , 65.46705  , 45.83164  ,\n",
       "       40.301476 , 32.075935 , 24.082209 , 11.288137 , 46.75639  ,\n",
       "       34.59657  , 43.462646 , 18.84058  , 35.310745 , 36.635647 ,\n",
       "       10.552601 , 28.847069 , 40.277515 , 26.630592 , 38.194485 ,\n",
       "       48.01672  , 43.88292  , 41.53365  , 36.918564 ], dtype=float32)"
      ]
     },
     "execution_count": 96,
     "metadata": {},
     "output_type": "execute_result"
    }
   ],
   "source": [
    "y_pred=XGB.predict(x_test_sc)\n",
    "y_pred"
   ]
  },
  {
   "cell_type": "code",
   "execution_count": 97,
   "id": "6a3425b3",
   "metadata": {},
   "outputs": [
    {
     "data": {
      "text/plain": [
       "0.9077828705148017"
      ]
     },
     "execution_count": 97,
     "metadata": {},
     "output_type": "execute_result"
    }
   ],
   "source": [
    "score = r2_score(y_test,y_pred)\n",
    "score"
   ]
  },
  {
   "cell_type": "code",
   "execution_count": 99,
   "id": "8a78305b",
   "metadata": {},
   "outputs": [
    {
     "data": {
      "text/plain": [
       "array([0.2221429 , 0.11689106, 0.04045141, 0.12872823, 0.17017528,\n",
       "       0.3216112 ], dtype=float32)"
      ]
     },
     "execution_count": 99,
     "metadata": {},
     "output_type": "execute_result"
    }
   ],
   "source": [
    "XGB.feature_importances_"
   ]
  },
  {
   "cell_type": "code",
   "execution_count": 101,
   "id": "a5101bcf",
   "metadata": {},
   "outputs": [
    {
     "data": {
      "text/plain": [
       "cement              0.222143\n",
       "slag                0.116891\n",
       "flyash              0.040451\n",
       "water               0.128728\n",
       "superplasticizer    0.170175\n",
       "age                 0.321611\n",
       "dtype: float32"
      ]
     },
     "execution_count": 101,
     "metadata": {},
     "output_type": "execute_result"
    }
   ],
   "source": [
    "feature_imps = pd.Series(XGB.feature_importances_, index = X.columns)\n",
    "feature_imps"
   ]
  },
  {
   "cell_type": "code",
   "execution_count": 102,
   "id": "0707752f",
   "metadata": {},
   "outputs": [
    {
     "data": {
      "text/plain": [
       "<AxesSubplot:>"
      ]
     },
     "execution_count": 102,
     "metadata": {},
     "output_type": "execute_result"
    },
    {
     "data": {
      "image/png": "[encoded data removed]",
      "text/plain": [
       "<Figure size 432x288 with 1 Axes>"
      ]
     },
     "metadata": {
      "needs_background": "light"
     },
     "output_type": "display_data"
    }
   ],
   "source": [
    "feature_imps.nlargest(8).plot(kind='barh')"
   ]
  },
  {
   "cell_type": "code",
   "execution_count": null,
   "id": "5df95325",
   "metadata": {},
   "outputs": [],
   "source": []
  },
  {
   "cell_type": "code",
   "execution_count": null,
   "id": "650cd080",
   "metadata": {},
   "outputs": [],
   "source": []
  },
  {
   "cell_type": "code",
   "execution_count": null,
   "id": "0a20c8f3",
   "metadata": {},
   "outputs": [],
   "source": []
  }
 ],
 "metadata": {
  "kernelspec": {
   "display_name": "Python 3 (ipykernel)",
   "language": "python",
   "name": "python3"
  },
  "language_info": {
   "codemirror_mode": {
    "name": "ipython",
    "version": 3
   },
   "file_extension": ".py",
   "mimetype": "text/x-python",
   "name": "python",
   "nbconvert_exporter": "python",
   "pygments_lexer": "ipython3",
   "version": "3.9.7"
  }
 },
 "nbformat": 4,
 "nbformat_minor": 5
}
